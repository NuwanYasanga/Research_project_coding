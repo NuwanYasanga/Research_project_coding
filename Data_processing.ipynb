{
 "cells": [
  {
   "cell_type": "code",
   "execution_count": 2,
   "id": "e985a829",
   "metadata": {},
   "outputs": [],
   "source": [
    "import pandas as pd\n",
    "import numpy as np\n",
    "import os\n",
    "from tqdm.notebook import tqdm"
   ]
  },
  {
   "cell_type": "code",
   "execution_count": 3,
   "id": "70ca17b0",
   "metadata": {},
   "outputs": [],
   "source": [
    "key_distance = pd.read_excel('C:/Research Activities/Dataset/Keyboard_distance.xlsx', header=0)"
   ]
  },
  {
   "cell_type": "code",
   "execution_count": 4,
   "id": "7615a7ae",
   "metadata": {},
   "outputs": [],
   "source": [
    "annotations_dir = 'C:/Research Activities/Dataset/BB-MAS_Dataset/'\n",
    "\n",
    "desktop_free = pd.read_csv(annotations_dir+'Desktop_Freetext.csv', header=0)\n",
    "phone_free = pd.read_csv(annotations_dir+'Phone_Freetext.csv', header=0)\n",
    "tablet_free = pd.read_csv(annotations_dir+'Tablet_Freetext.csv', header=0)\n",
    "\n",
    "desktop_free['timestamp'] = pd.to_datetime(desktop_free['timestamp'])\n",
    "phone_free['FreeText_Start'] = pd.to_datetime(phone_free['FreeText_Start'])\n",
    "tablet_free['FreeText_Start'] = pd.to_datetime(tablet_free['FreeText_Start'])\n",
    "\n",
    "desktop_annotations = desktop_free.values\n",
    "phone_annotations = phone_free.values\n",
    "tablet_annotations = tablet_free.values\n",
    "\n",
    "desktop_calibrated_annotations = {}\n",
    "for annot in desktop_annotations:\n",
    "    desktop_calibrated_annotations[int(annot[0])] = annot[1]\n",
    "\n",
    "phone_calibrated_annotations = {}\n",
    "for annot in phone_annotations:\n",
    "    phone_calibrated_annotations[int(annot[0])] = annot[1]\n",
    "\n",
    "tablet_calibrated_annotations = {}\n",
    "for annot in tablet_annotations:\n",
    "    tablet_calibrated_annotations[int(annot[0])] = annot[1] "
   ]
  },
  {
   "cell_type": "code",
   "execution_count": 5,
   "id": "15bfe40c",
   "metadata": {},
   "outputs": [],
   "source": [
    "def return_target_csv(data, target_time):\n",
    "        target_csv = []\n",
    "        for i, data_item in enumerate(data):\n",
    "              if(data_item[3]<target_time):\n",
    "                target_csv.append([data_item[0], data_item[1], data_item[2], data_item[3]])\n",
    "        return np.asarray(target_csv)"
   ]
  },
  {
   "cell_type": "code",
   "execution_count": 6,
   "id": "55d17ab2",
   "metadata": {},
   "outputs": [
    {
     "data": {
      "application/vnd.jupyter.widget-view+json": {
       "model_id": "bc369afd11e240df8b493a47fb40a748",
       "version_major": 2,
       "version_minor": 0
      },
      "text/plain": [
       "  0%|          | 0/109 [00:00<?, ?it/s]"
      ]
     },
     "metadata": {},
     "output_type": "display_data"
    }
   ],
   "source": [
    "data_dir = 'C:/Research Activities/Dataset/BB-MAS_Dataset/Desktop/'\n",
    "target_dir = 'C:/Research Activities/Dataset/BB-MAS_Dataset/Desktop_fixed_text/'\n",
    "\n",
    "user_files = os.listdir(data_dir)\n",
    "for i in tqdm(range(len(user_files))):\n",
    "        user_file = user_files[i]\n",
    "        data_frame = pd.read_csv(data_dir+user_file, header=0)\n",
    "        data_frame['time'] =  pd.to_datetime(data_frame['time'])\n",
    "        user_data = data_frame.values\n",
    "        curr_user_ind = int(user_file[:user_file.find('_')])\n",
    "        try:\n",
    "            target_time_stamp = desktop_calibrated_annotations[curr_user_ind]\n",
    "            csv = return_target_csv(user_data, target_time_stamp)\n",
    "        except KeyError as e:\n",
    "            csv = user_data\n",
    "\n",
    "        f = open(target_dir+'User_'+str(curr_user_ind)+'.csv', 'w')\n",
    "        f.write('\"EID\",\"key\",\"direction\",\"time\"\\n')\n",
    "        for line in csv:\n",
    "            f.write('\"'+str(line[0])+'\",\"'+str(line[1])+'\",\"'+str(line[2])+'\",\"'+str(line[3])+'\"\\n')\n",
    "        f.close()"
   ]
  },
  {
   "cell_type": "code",
   "execution_count": 152,
   "id": "6078cf17",
   "metadata": {},
   "outputs": [],
   "source": [
    "def get_timings_KIT(keys_in_pipeline, search_key, search_key_timing):\n",
    "    mask = np.ones(len(keys_in_pipeline))\n",
    "    keys_in_pipeline = np.asarray(keys_in_pipeline)\n",
    "    for i, (key, timing) in enumerate(keys_in_pipeline):\n",
    "          if(search_key==key):\n",
    "            mask[i] = 0\n",
    "            non_zero_indices = np.nonzero(mask) \n",
    "\n",
    "            if(len(non_zero_indices)>0):\n",
    "                keys_in_pipeline = keys_in_pipeline[non_zero_indices]\n",
    "            else:\n",
    "                  keys_in_pipeline = []\n",
    "\n",
    "            return keys_in_pipeline, timing, search_key_timing\n",
    "    return keys_in_pipeline, None, None\n",
    "\n",
    "# function to get KIT data frame with key, press_time, release_time for a given user\n",
    "def get_dataframe_KIT(data):\n",
    "    \"\"\" Input: data  Output: Dataframe with (key, press_time, release_time)\"\"\" \n",
    "    \n",
    "    keys_in_pipeline = []\n",
    "    result_key = []\n",
    "    press = []\n",
    "    release = []\n",
    "    for row_idx in range(len(data)):\n",
    "        keys_in_pipeline = list(keys_in_pipeline)\n",
    "        curr_key = data[row_idx][1]\n",
    "        curr_direction = data[row_idx][2]\n",
    "        curr_timing = data[row_idx][3]\n",
    "\n",
    "        if(curr_direction==0):\n",
    "            keys_in_pipeline.append([curr_key, curr_timing])\n",
    "\n",
    "        if(curr_direction==1):\n",
    "            keys_in_pipeline, curr_start, curr_end = get_timings_KIT(keys_in_pipeline, curr_key, curr_timing)\n",
    "            if(curr_start is None):\n",
    "                continue\n",
    "            else:\n",
    "                result_key.append(curr_key)\n",
    "                press.append(curr_start)\n",
    "                release.append(curr_end)\n",
    "\n",
    "    resultant_data_frame = pd.DataFrame(list(zip(result_key, press, release)),\n",
    "               columns =['Key', 'Press_Time', 'Release_Time']) \n",
    "    return resultant_data_frame  "
   ]
  },
  {
   "cell_type": "code",
   "execution_count": 153,
   "id": "8a920e11",
   "metadata": {},
   "outputs": [],
   "source": [
    "def get_DIG_features(data):\n",
    "  \n",
    "    result = [{'Keys': str(data[row_idx][0])+','+str(data[row_idx + 1][0]), \n",
    "               'Holdtime1': (((data[row_idx][2]-data[row_idx][1])).microseconds)/1000,\n",
    "            'Holdtime2': (((data[row_idx + 1][2]-data[row_idx + 1][1])).microseconds)/1000,\n",
    "               'F1': (((data[row_idx+1][1]-data[row_idx][2])).microseconds)/1000,\n",
    "              'F2': (((data[row_idx+1][1]-data[row_idx][1])).microseconds)/1000,\n",
    "              'F3': (((data[row_idx+1][2]-data[row_idx][2])).microseconds)/1000,\n",
    "              'F4': (((data[row_idx+1][2]-data[row_idx][1])).microseconds)/1000} \n",
    "              for row_idx in range(0, len(data)) \n",
    "              if (row_idx + 1 < len(data))]\n",
    "        \n",
    "    df = pd.DataFrame(result)\n",
    "    \n",
    "    return df"
   ]
  },
  {
   "cell_type": "code",
   "execution_count": 1,
   "id": "ad76543d",
   "metadata": {},
   "outputs": [],
   "source": [
    "def apply_distance(data1, data2):\n",
    "    data_combine =  data1.join(data2.set_index('Keys'), on='Keys', how='left').sort_index(axis=0, ascending=True)\n",
    "    \n",
    "    return np.asarray(data_combine)"
   ]
  },
  {
   "cell_type": "code",
   "execution_count": 197,
   "id": "c6ac04e2",
   "metadata": {},
   "outputs": [
    {
     "data": {
      "application/vnd.jupyter.widget-view+json": {
       "model_id": "2cec20d6f4f3493790e5e55bec5303bd",
       "version_major": 2,
       "version_minor": 0
      },
      "text/plain": [
       "  0%|          | 0/115 [00:00<?, ?it/s]"
      ]
     },
     "metadata": {},
     "output_type": "display_data"
    }
   ],
   "source": [
    "data_dir = 'C:/Research Activities/Dataset/BB-MAS_Dataset/Desktop_fixed_text/'\n",
    "target_dir = 'C:/Research Activities/Dataset/BB-MAS_Dataset/Desktop_features_fixed/'\n",
    "\n",
    "user_files = os.listdir(data_dir)\n",
    "for i in tqdm(range(len(user_files))):\n",
    "        user_file = user_files[i]\n",
    "        data_frame = pd.read_csv(data_dir+user_file, header=0)\n",
    "        data_frame.iloc[:,3] =  pd.to_datetime(data_frame.iloc[:,3])\n",
    "        user_data = data_frame.values\n",
    "        curr_user_ind = int(user_file[user_file.find('_')+1:user_file.find('.')])\n",
    "        user_timing = get_dataframe_KIT(user_data).values\n",
    "        get_features = get_DIG_features(user_timing)\n",
    "        csv = apply_distance(get_features, key_distance)\n",
    "\n",
    "        f = open(target_dir+'User_'+str(curr_user_ind)+'.csv', 'w')\n",
    "        f.write('\"Keys\",\"Holdtime1\",\"Holdtime2\",\"F1\",\"F2\",\"F3\",\"F4\",\"Distance\",\"Hands\"\\n')\n",
    "        for line in csv:\n",
    "            f.write('\"'+str(line[0])+'\",\"'+str(line[1])+'\",\"'+str(line[2])+'\",\"'+str(line[3])+'\",\"'+str(line[4])+'\",\"'+str(line[5])+'\",\"'+str(line[6])+'\",\"'+str(line[7])+'\",\"'+str(line[8])+'\"\\n')\n",
    "        f.close()"
   ]
  },
  {
   "cell_type": "code",
   "execution_count": null,
   "id": "149a5706",
   "metadata": {},
   "outputs": [],
   "source": []
  }
 ],
 "metadata": {
  "kernelspec": {
   "display_name": "Python 3 (ipykernel)",
   "language": "python",
   "name": "python3"
  },
  "language_info": {
   "codemirror_mode": {
    "name": "ipython",
    "version": 3
   },
   "file_extension": ".py",
   "mimetype": "text/x-python",
   "name": "python",
   "nbconvert_exporter": "python",
   "pygments_lexer": "ipython3",
   "version": "3.9.7"
  }
 },
 "nbformat": 4,
 "nbformat_minor": 5
}
