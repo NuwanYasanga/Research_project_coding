{
 "cells": [
  {
   "cell_type": "markdown",
   "id": "3b11c58d",
   "metadata": {},
   "source": [
    "# Import libraries"
   ]
  },
  {
   "cell_type": "code",
   "execution_count": 1,
   "id": "9451c366",
   "metadata": {},
   "outputs": [],
   "source": [
    "import math\n",
    "import numpy as np\n",
    "import pandas as pd\n",
    "import h5py\n",
    "import matplotlib.pyplot as plt\n",
    "from imblearn.over_sampling import SMOTE\n",
    "from sklearn.preprocessing import MinMaxScaler\n",
    "import scipy\n",
    "from PIL import Image\n",
    "import pandas as pd\n",
    "import tensorflow as tf\n",
    "from tensorflow.keras import Sequential \n",
    "from tensorflow.keras.metrics import Precision, Recall\n",
    "import tensorflow.keras.layers as tfl\n",
    "from tensorflow.python.framework import ops\n",
    "from sklearn.preprocessing import LabelBinarizer\n",
    "from sklearn.model_selection import train_test_split\n",
    "from keras.callbacks import EarlyStopping\n",
    "from keras.callbacks import ModelCheckpoint\n",
    "from keras.models import load_model"
   ]
  },
  {
   "cell_type": "markdown",
   "id": "581cd456",
   "metadata": {},
   "source": [
    "# Load the dataset"
   ]
  },
  {
   "cell_type": "code",
   "execution_count": 2,
   "id": "77502522",
   "metadata": {},
   "outputs": [],
   "source": [
    "all_merged = pd.read_csv('C:/Users/s3929438/all_features_desktop_100_final_latest.csv')"
   ]
  },
  {
   "cell_type": "markdown",
   "id": "38cf65c7",
   "metadata": {},
   "source": [
    "# Select a single user\n",
    "## Create the training and testing sets for the user\n"
   ]
  },
  {
   "cell_type": "code",
   "execution_count": 3,
   "id": "1d47a5db",
   "metadata": {},
   "outputs": [],
   "source": [
    "user_train_set = all_merged[all_merged['User']==1].sample(frac=0.7, random_state=42)\n",
    "sample_ids = user_train_set['sample']\n",
    "user_test_set = all_merged[(all_merged['User']==1) & ~all_merged['sample'].isin (sample_ids)]"
   ]
  },
  {
   "cell_type": "markdown",
   "id": "43394f1c",
   "metadata": {},
   "source": [
    "## Create the training and testing sets for all other users"
   ]
  },
  {
   "cell_type": "code",
   "execution_count": 4,
   "id": "1b9a5b78",
   "metadata": {},
   "outputs": [],
   "source": [
    "all_train_set  = pd.DataFrame()\n",
    "all_test_set = pd.DataFrame()\n",
    "user_id = 1\n",
    "for i in range (1,117):\n",
    "    if i != user_id:\n",
    "        train_set = all_merged[all_merged['User']==i].sample(frac=0.7, random_state=42)\n",
    "        sample_ids = train_set['sample']\n",
    "        test_set = all_merged[(all_merged['User']==i) & ~all_merged['sample'].isin (sample_ids) ]\n",
    "    \n",
    "        all_train_set = all_train_set.append(train_set,ignore_index=True)\n",
    "        all_test_set = all_test_set.append(test_set, ignore_index=True)"
   ]
  },
  {
   "cell_type": "markdown",
   "id": "d3be168d",
   "metadata": {},
   "source": [
    "# Add a new column by labelling the User data as 1 and all others data as 0"
   ]
  },
  {
   "cell_type": "code",
   "execution_count": 5,
   "id": "c064621c",
   "metadata": {},
   "outputs": [
    {
     "name": "stderr",
     "output_type": "stream",
     "text": [
      "C:\\Users\\s3929438\\AppData\\Local\\Temp/ipykernel_18812/4033866476.py:3: SettingWithCopyWarning: \n",
      "A value is trying to be set on a copy of a slice from a DataFrame.\n",
      "Try using .loc[row_indexer,col_indexer] = value instead\n",
      "\n",
      "See the caveats in the documentation: https://pandas.pydata.org/pandas-docs/stable/user_guide/indexing.html#returning-a-view-versus-a-copy\n",
      "  user_test_set['User_type']=1\n"
     ]
    }
   ],
   "source": [
    "user_train_set['User_type']=1\n",
    "all_train_set['User_type']=0\n",
    "user_test_set['User_type']=1\n",
    "all_test_set['User_type']=0"
   ]
  },
  {
   "cell_type": "markdown",
   "id": "94cba9b2",
   "metadata": {},
   "source": [
    "# Combine all users and build the final datasets"
   ]
  },
  {
   "cell_type": "code",
   "execution_count": 6,
   "id": "c46d207b",
   "metadata": {},
   "outputs": [],
   "source": [
    "final_train_set = user_train_set.append(all_train_set)\n",
    "final_test_set = user_test_set.append(all_test_set)"
   ]
  },
  {
   "cell_type": "markdown",
   "id": "c2fcb4f9",
   "metadata": {},
   "source": [
    "# Define the x_train, x_test, y_train and y_test"
   ]
  },
  {
   "cell_type": "code",
   "execution_count": 7,
   "id": "1038ae2a",
   "metadata": {},
   "outputs": [],
   "source": [
    "X_train = pd.DataFrame(final_train_set.iloc[:,3:92])\n",
    "y_train =final_train_set.iloc[:,92]\n",
    "X_test = pd.DataFrame(final_test_set.iloc[:,3:92])\n",
    "y_test = final_test_set.iloc[:,92]"
   ]
  },
  {
   "cell_type": "code",
   "execution_count": 8,
   "id": "c3d8669d",
   "metadata": {},
   "outputs": [],
   "source": [
    "feature_names = X_train.columns"
   ]
  },
  {
   "cell_type": "markdown",
   "id": "a2ebdcbf",
   "metadata": {},
   "source": [
    "# Oversample the training set"
   ]
  },
  {
   "cell_type": "code",
   "execution_count": 9,
   "id": "12ce750d",
   "metadata": {},
   "outputs": [],
   "source": [
    "sm = SMOTE()\n",
    "x_train_res, y_train_res = sm.fit_resample(X_train, y_train)"
   ]
  },
  {
   "cell_type": "markdown",
   "id": "8cb765e1",
   "metadata": {},
   "source": [
    "# Normalised x_train and x_test"
   ]
  },
  {
   "cell_type": "code",
   "execution_count": 10,
   "id": "0b2ec855",
   "metadata": {},
   "outputs": [],
   "source": [
    "scaled_data = MinMaxScaler()\n",
    "scaled_train = pd.DataFrame(scaled_data.fit_transform(x_train_res), columns=feature_names)\n",
    "scaled_test = pd.DataFrame(scaled_data.transform(X_test), columns=feature_names)"
   ]
  },
  {
   "cell_type": "code",
   "execution_count": null,
   "id": "402610b4",
   "metadata": {},
   "outputs": [],
   "source": [
    "# def KeystrokeModel():\n",
    "\n",
    "#     model = tf.keras.Sequential([\n",
    "           \n",
    "#             tfl.ZeroPadding2D(padding=(0,0) , input_shape = (8850, 89,1), data_format=\"channels_last\"),\n",
    "#             tfl.Conv2D(32, (100,89), strides = (90,1)),\n",
    "#             tfl.BatchNormalization(axis= 3),\n",
    "#             tfl.ReLU(max_value=None, negative_slope=0.0, threshold=0.0),\n",
    "# #             tfl.MaxPool2D(pool_size=(5, 89),strides=None,data_format=None),\n",
    "# #             tfl.Conv2D(16, (5,5), strides = (4,4)),\n",
    "# #             tfl.BatchNormalization(axis= 3),\n",
    "# #             tfl.ReLU(max_value=None, negative_slope=0.0, threshold=0.0),\n",
    "# #             tfl.MaxPool2D(pool_size=(2, 2),strides=None,data_format=None),\n",
    "#             tfl.Flatten(),\n",
    "#             tfl.Dense(3136,activation='relu'),\n",
    "#             tfl.Dense(1,activation='sigmoid')\n",
    "#         ])\n",
    "    \n",
    "#     return model"
   ]
  },
  {
   "cell_type": "code",
   "execution_count": null,
   "id": "24f148fb",
   "metadata": {},
   "outputs": [],
   "source": [
    "# model = KeystrokeModel()\n",
    "# model.compile(optimizer='adam',\n",
    "#                    loss='binary_crossentropy',\n",
    "#                    metrics=['accuracy'])"
   ]
  },
  {
   "cell_type": "code",
   "execution_count": null,
   "id": "c693d93f",
   "metadata": {},
   "outputs": [],
   "source": []
  },
  {
   "cell_type": "code",
   "execution_count": null,
   "id": "b90a9030",
   "metadata": {},
   "outputs": [],
   "source": []
  },
  {
   "cell_type": "markdown",
   "id": "d9559b6e",
   "metadata": {},
   "source": [
    "# Apply general deep learning model\n",
    "\n",
    "### This model working fine. But the results we achived are very low. "
   ]
  },
  {
   "cell_type": "code",
   "execution_count": 11,
   "id": "7739b0b7",
   "metadata": {},
   "outputs": [],
   "source": [
    "# Seperated the training set into training and validation set\n",
    "x_train, x_val ,  y_train, y_val = train_test_split(scaled_train, y_train_res, test_size=0.3, random_state=42)"
   ]
  },
  {
   "cell_type": "code",
   "execution_count": 12,
   "id": "dade744a",
   "metadata": {},
   "outputs": [
    {
     "data": {
      "text/plain": [
       "0    3103\n",
       "1    3092\n",
       "Name: User_type, dtype: int64"
      ]
     },
     "execution_count": 12,
     "metadata": {},
     "output_type": "execute_result"
    }
   ],
   "source": [
    "y_train.value_counts()"
   ]
  },
  {
   "cell_type": "code",
   "execution_count": 13,
   "id": "bc37d288",
   "metadata": {},
   "outputs": [
    {
     "data": {
      "text/html": [
       "<div>\n",
       "<style scoped>\n",
       "    .dataframe tbody tr th:only-of-type {\n",
       "        vertical-align: middle;\n",
       "    }\n",
       "\n",
       "    .dataframe tbody tr th {\n",
       "        vertical-align: top;\n",
       "    }\n",
       "\n",
       "    .dataframe thead th {\n",
       "        text-align: right;\n",
       "    }\n",
       "</style>\n",
       "<table border=\"1\" class=\"dataframe\">\n",
       "  <thead>\n",
       "    <tr style=\"text-align: right;\">\n",
       "      <th></th>\n",
       "      <th>Error_rate_%</th>\n",
       "      <th>Cpslck_usage</th>\n",
       "      <th>WPM</th>\n",
       "      <th>neg_UD_%</th>\n",
       "      <th>neg_UU_%</th>\n",
       "      <th>mean_hold_time</th>\n",
       "      <th>mean_F1_dis_0_LL</th>\n",
       "      <th>mean_F1_dis_0_RR</th>\n",
       "      <th>mean_F1_dis_1_LL</th>\n",
       "      <th>mean_F1_dis_1_RR</th>\n",
       "      <th>...</th>\n",
       "      <th>mean_F1_co</th>\n",
       "      <th>mean_F2_co</th>\n",
       "      <th>mean_F3_co</th>\n",
       "      <th>mean_F4_co</th>\n",
       "      <th>mean_F1_le</th>\n",
       "      <th>mean_F2_le</th>\n",
       "      <th>mean_F3_le</th>\n",
       "      <th>mean_F4_le</th>\n",
       "      <th>RSA_ratio</th>\n",
       "      <th>LSA_ratio</th>\n",
       "    </tr>\n",
       "  </thead>\n",
       "  <tbody>\n",
       "    <tr>\n",
       "      <th>3207</th>\n",
       "      <td>0.209302</td>\n",
       "      <td>0.0</td>\n",
       "      <td>0.288801</td>\n",
       "      <td>0.029412</td>\n",
       "      <td>0.000000</td>\n",
       "      <td>0.000000</td>\n",
       "      <td>0.015665</td>\n",
       "      <td>0.019643</td>\n",
       "      <td>0.218896</td>\n",
       "      <td>0.144789</td>\n",
       "      <td>...</td>\n",
       "      <td>0.319134</td>\n",
       "      <td>0.112932</td>\n",
       "      <td>0.065482</td>\n",
       "      <td>0.085268</td>\n",
       "      <td>0.257143</td>\n",
       "      <td>0.126855</td>\n",
       "      <td>0.075256</td>\n",
       "      <td>0.090120</td>\n",
       "      <td>0.804545</td>\n",
       "      <td>0.804545</td>\n",
       "    </tr>\n",
       "    <tr>\n",
       "      <th>3001</th>\n",
       "      <td>0.139535</td>\n",
       "      <td>0.0</td>\n",
       "      <td>0.056833</td>\n",
       "      <td>0.193127</td>\n",
       "      <td>0.126276</td>\n",
       "      <td>0.098585</td>\n",
       "      <td>0.000000</td>\n",
       "      <td>0.000000</td>\n",
       "      <td>0.182682</td>\n",
       "      <td>0.151010</td>\n",
       "      <td>...</td>\n",
       "      <td>0.291445</td>\n",
       "      <td>0.050930</td>\n",
       "      <td>0.000000</td>\n",
       "      <td>0.000000</td>\n",
       "      <td>0.232275</td>\n",
       "      <td>0.074677</td>\n",
       "      <td>0.000000</td>\n",
       "      <td>0.000000</td>\n",
       "      <td>0.187500</td>\n",
       "      <td>0.812500</td>\n",
       "    </tr>\n",
       "    <tr>\n",
       "      <th>2118</th>\n",
       "      <td>0.255814</td>\n",
       "      <td>0.0</td>\n",
       "      <td>0.204393</td>\n",
       "      <td>0.029412</td>\n",
       "      <td>0.000000</td>\n",
       "      <td>0.027432</td>\n",
       "      <td>0.000000</td>\n",
       "      <td>0.000000</td>\n",
       "      <td>0.134663</td>\n",
       "      <td>0.134543</td>\n",
       "      <td>...</td>\n",
       "      <td>0.291445</td>\n",
       "      <td>0.050930</td>\n",
       "      <td>0.000000</td>\n",
       "      <td>0.000000</td>\n",
       "      <td>0.232275</td>\n",
       "      <td>0.074677</td>\n",
       "      <td>0.000000</td>\n",
       "      <td>0.000000</td>\n",
       "      <td>1.000000</td>\n",
       "      <td>1.000000</td>\n",
       "    </tr>\n",
       "    <tr>\n",
       "      <th>6165</th>\n",
       "      <td>0.104420</td>\n",
       "      <td>0.0</td>\n",
       "      <td>0.054450</td>\n",
       "      <td>0.118657</td>\n",
       "      <td>0.075572</td>\n",
       "      <td>0.106447</td>\n",
       "      <td>0.000000</td>\n",
       "      <td>0.046530</td>\n",
       "      <td>0.230293</td>\n",
       "      <td>0.166939</td>\n",
       "      <td>...</td>\n",
       "      <td>0.343385</td>\n",
       "      <td>0.151949</td>\n",
       "      <td>0.126985</td>\n",
       "      <td>0.149127</td>\n",
       "      <td>0.339725</td>\n",
       "      <td>0.219908</td>\n",
       "      <td>0.179903</td>\n",
       "      <td>0.192350</td>\n",
       "      <td>0.813740</td>\n",
       "      <td>0.000000</td>\n",
       "    </tr>\n",
       "    <tr>\n",
       "      <th>6871</th>\n",
       "      <td>0.000000</td>\n",
       "      <td>0.0</td>\n",
       "      <td>0.302155</td>\n",
       "      <td>0.129264</td>\n",
       "      <td>0.036964</td>\n",
       "      <td>0.059344</td>\n",
       "      <td>0.023797</td>\n",
       "      <td>0.035305</td>\n",
       "      <td>0.182265</td>\n",
       "      <td>0.184514</td>\n",
       "      <td>...</td>\n",
       "      <td>0.291445</td>\n",
       "      <td>0.050930</td>\n",
       "      <td>0.000000</td>\n",
       "      <td>0.000000</td>\n",
       "      <td>0.232275</td>\n",
       "      <td>0.074677</td>\n",
       "      <td>0.000000</td>\n",
       "      <td>0.000000</td>\n",
       "      <td>0.887147</td>\n",
       "      <td>0.000000</td>\n",
       "    </tr>\n",
       "    <tr>\n",
       "      <th>...</th>\n",
       "      <td>...</td>\n",
       "      <td>...</td>\n",
       "      <td>...</td>\n",
       "      <td>...</td>\n",
       "      <td>...</td>\n",
       "      <td>...</td>\n",
       "      <td>...</td>\n",
       "      <td>...</td>\n",
       "      <td>...</td>\n",
       "      <td>...</td>\n",
       "      <td>...</td>\n",
       "      <td>...</td>\n",
       "      <td>...</td>\n",
       "      <td>...</td>\n",
       "      <td>...</td>\n",
       "      <td>...</td>\n",
       "      <td>...</td>\n",
       "      <td>...</td>\n",
       "      <td>...</td>\n",
       "      <td>...</td>\n",
       "      <td>...</td>\n",
       "    </tr>\n",
       "    <tr>\n",
       "      <th>5734</th>\n",
       "      <td>0.104596</td>\n",
       "      <td>0.0</td>\n",
       "      <td>0.335049</td>\n",
       "      <td>0.095600</td>\n",
       "      <td>0.010433</td>\n",
       "      <td>0.044844</td>\n",
       "      <td>0.018057</td>\n",
       "      <td>0.034059</td>\n",
       "      <td>0.188056</td>\n",
       "      <td>0.218914</td>\n",
       "      <td>...</td>\n",
       "      <td>0.291445</td>\n",
       "      <td>0.050930</td>\n",
       "      <td>0.000000</td>\n",
       "      <td>0.000000</td>\n",
       "      <td>0.232275</td>\n",
       "      <td>0.074677</td>\n",
       "      <td>0.000000</td>\n",
       "      <td>0.000000</td>\n",
       "      <td>0.250395</td>\n",
       "      <td>0.000000</td>\n",
       "    </tr>\n",
       "    <tr>\n",
       "      <th>5191</th>\n",
       "      <td>0.025176</td>\n",
       "      <td>0.0</td>\n",
       "      <td>0.413989</td>\n",
       "      <td>0.212628</td>\n",
       "      <td>0.000000</td>\n",
       "      <td>0.063173</td>\n",
       "      <td>0.000000</td>\n",
       "      <td>0.000000</td>\n",
       "      <td>0.185196</td>\n",
       "      <td>0.150440</td>\n",
       "      <td>...</td>\n",
       "      <td>0.291445</td>\n",
       "      <td>0.050930</td>\n",
       "      <td>0.000000</td>\n",
       "      <td>0.000000</td>\n",
       "      <td>0.232275</td>\n",
       "      <td>0.074677</td>\n",
       "      <td>0.000000</td>\n",
       "      <td>0.000000</td>\n",
       "      <td>0.180430</td>\n",
       "      <td>0.000000</td>\n",
       "    </tr>\n",
       "    <tr>\n",
       "      <th>5390</th>\n",
       "      <td>0.139535</td>\n",
       "      <td>0.0</td>\n",
       "      <td>0.309888</td>\n",
       "      <td>0.016948</td>\n",
       "      <td>0.000000</td>\n",
       "      <td>0.040007</td>\n",
       "      <td>0.019296</td>\n",
       "      <td>0.040379</td>\n",
       "      <td>0.194201</td>\n",
       "      <td>0.159072</td>\n",
       "      <td>...</td>\n",
       "      <td>0.261467</td>\n",
       "      <td>0.109803</td>\n",
       "      <td>0.063247</td>\n",
       "      <td>0.148841</td>\n",
       "      <td>0.265160</td>\n",
       "      <td>0.135682</td>\n",
       "      <td>0.100196</td>\n",
       "      <td>0.111669</td>\n",
       "      <td>0.000000</td>\n",
       "      <td>0.000000</td>\n",
       "    </tr>\n",
       "    <tr>\n",
       "      <th>860</th>\n",
       "      <td>0.046512</td>\n",
       "      <td>0.0</td>\n",
       "      <td>0.212778</td>\n",
       "      <td>0.000000</td>\n",
       "      <td>0.000000</td>\n",
       "      <td>0.023048</td>\n",
       "      <td>0.000000</td>\n",
       "      <td>0.000000</td>\n",
       "      <td>0.217279</td>\n",
       "      <td>0.153490</td>\n",
       "      <td>...</td>\n",
       "      <td>0.346823</td>\n",
       "      <td>0.140390</td>\n",
       "      <td>0.102432</td>\n",
       "      <td>0.111862</td>\n",
       "      <td>0.265079</td>\n",
       "      <td>0.126855</td>\n",
       "      <td>0.093919</td>\n",
       "      <td>0.097831</td>\n",
       "      <td>1.000000</td>\n",
       "      <td>1.000000</td>\n",
       "    </tr>\n",
       "    <tr>\n",
       "      <th>7270</th>\n",
       "      <td>0.103238</td>\n",
       "      <td>0.0</td>\n",
       "      <td>0.269761</td>\n",
       "      <td>0.119089</td>\n",
       "      <td>0.000000</td>\n",
       "      <td>0.059372</td>\n",
       "      <td>0.007871</td>\n",
       "      <td>0.000000</td>\n",
       "      <td>0.188317</td>\n",
       "      <td>0.157063</td>\n",
       "      <td>...</td>\n",
       "      <td>0.291445</td>\n",
       "      <td>0.050930</td>\n",
       "      <td>0.000000</td>\n",
       "      <td>0.000000</td>\n",
       "      <td>0.232275</td>\n",
       "      <td>0.074677</td>\n",
       "      <td>0.000000</td>\n",
       "      <td>0.000000</td>\n",
       "      <td>0.609805</td>\n",
       "      <td>0.000000</td>\n",
       "    </tr>\n",
       "  </tbody>\n",
       "</table>\n",
       "<p>6195 rows × 89 columns</p>\n",
       "</div>"
      ],
      "text/plain": [
       "      Error_rate_%  Cpslck_usage       WPM  neg_UD_%  neg_UU_%  \\\n",
       "3207      0.209302           0.0  0.288801  0.029412  0.000000   \n",
       "3001      0.139535           0.0  0.056833  0.193127  0.126276   \n",
       "2118      0.255814           0.0  0.204393  0.029412  0.000000   \n",
       "6165      0.104420           0.0  0.054450  0.118657  0.075572   \n",
       "6871      0.000000           0.0  0.302155  0.129264  0.036964   \n",
       "...            ...           ...       ...       ...       ...   \n",
       "5734      0.104596           0.0  0.335049  0.095600  0.010433   \n",
       "5191      0.025176           0.0  0.413989  0.212628  0.000000   \n",
       "5390      0.139535           0.0  0.309888  0.016948  0.000000   \n",
       "860       0.046512           0.0  0.212778  0.000000  0.000000   \n",
       "7270      0.103238           0.0  0.269761  0.119089  0.000000   \n",
       "\n",
       "      mean_hold_time  mean_F1_dis_0_LL  mean_F1_dis_0_RR  mean_F1_dis_1_LL  \\\n",
       "3207        0.000000          0.015665          0.019643          0.218896   \n",
       "3001        0.098585          0.000000          0.000000          0.182682   \n",
       "2118        0.027432          0.000000          0.000000          0.134663   \n",
       "6165        0.106447          0.000000          0.046530          0.230293   \n",
       "6871        0.059344          0.023797          0.035305          0.182265   \n",
       "...              ...               ...               ...               ...   \n",
       "5734        0.044844          0.018057          0.034059          0.188056   \n",
       "5191        0.063173          0.000000          0.000000          0.185196   \n",
       "5390        0.040007          0.019296          0.040379          0.194201   \n",
       "860         0.023048          0.000000          0.000000          0.217279   \n",
       "7270        0.059372          0.007871          0.000000          0.188317   \n",
       "\n",
       "      mean_F1_dis_1_RR  ...  mean_F1_co  mean_F2_co  mean_F3_co  mean_F4_co  \\\n",
       "3207          0.144789  ...    0.319134    0.112932    0.065482    0.085268   \n",
       "3001          0.151010  ...    0.291445    0.050930    0.000000    0.000000   \n",
       "2118          0.134543  ...    0.291445    0.050930    0.000000    0.000000   \n",
       "6165          0.166939  ...    0.343385    0.151949    0.126985    0.149127   \n",
       "6871          0.184514  ...    0.291445    0.050930    0.000000    0.000000   \n",
       "...                ...  ...         ...         ...         ...         ...   \n",
       "5734          0.218914  ...    0.291445    0.050930    0.000000    0.000000   \n",
       "5191          0.150440  ...    0.291445    0.050930    0.000000    0.000000   \n",
       "5390          0.159072  ...    0.261467    0.109803    0.063247    0.148841   \n",
       "860           0.153490  ...    0.346823    0.140390    0.102432    0.111862   \n",
       "7270          0.157063  ...    0.291445    0.050930    0.000000    0.000000   \n",
       "\n",
       "      mean_F1_le  mean_F2_le  mean_F3_le  mean_F4_le  RSA_ratio  LSA_ratio  \n",
       "3207    0.257143    0.126855    0.075256    0.090120   0.804545   0.804545  \n",
       "3001    0.232275    0.074677    0.000000    0.000000   0.187500   0.812500  \n",
       "2118    0.232275    0.074677    0.000000    0.000000   1.000000   1.000000  \n",
       "6165    0.339725    0.219908    0.179903    0.192350   0.813740   0.000000  \n",
       "6871    0.232275    0.074677    0.000000    0.000000   0.887147   0.000000  \n",
       "...          ...         ...         ...         ...        ...        ...  \n",
       "5734    0.232275    0.074677    0.000000    0.000000   0.250395   0.000000  \n",
       "5191    0.232275    0.074677    0.000000    0.000000   0.180430   0.000000  \n",
       "5390    0.265160    0.135682    0.100196    0.111669   0.000000   0.000000  \n",
       "860     0.265079    0.126855    0.093919    0.097831   1.000000   1.000000  \n",
       "7270    0.232275    0.074677    0.000000    0.000000   0.609805   0.000000  \n",
       "\n",
       "[6195 rows x 89 columns]"
      ]
     },
     "execution_count": 13,
     "metadata": {},
     "output_type": "execute_result"
    }
   ],
   "source": [
    "x_train"
   ]
  },
  {
   "cell_type": "code",
   "execution_count": 14,
   "id": "37d96b67",
   "metadata": {},
   "outputs": [],
   "source": [
    "X = x_train.values\n",
    "Y = y_train.values\n",
    "val_x = x_val.values\n",
    "val_y = y_val.values"
   ]
  },
  {
   "cell_type": "code",
   "execution_count": 15,
   "id": "df4571ce",
   "metadata": {},
   "outputs": [
    {
     "name": "stdout",
     "output_type": "stream",
     "text": [
      "Model: \"sequential\"\n",
      "_________________________________________________________________\n",
      " Layer (type)                Output Shape              Param #   \n",
      "=================================================================\n",
      " dense (Dense)               (None, 264)               23760     \n",
      "                                                                 \n",
      " dense_1 (Dense)             (None, 1)                 265       \n",
      "                                                                 \n",
      "=================================================================\n",
      "Total params: 24,025\n",
      "Trainable params: 24,025\n",
      "Non-trainable params: 0\n",
      "_________________________________________________________________\n"
     ]
    }
   ],
   "source": [
    "model = Sequential()\n",
    "model.add(tfl.Dense(264, input_dim=89, activation='relu')) \n",
    "# model.add(tfl.Dense(128, activation='relu'))\n",
    "model.add(tfl.Dense(1, activation='sigmoid'))\n",
    "model.summary() \n",
    "model.compile(optimizer='adam', loss='binary_crossentropy',metrics=['accuracy', Precision() ,Recall()])"
   ]
  },
  {
   "cell_type": "code",
   "execution_count": 16,
   "id": "b3ce5784",
   "metadata": {},
   "outputs": [],
   "source": [
    "# Early stopping \n",
    "es = EarlyStopping(monitor='val_loss', mode='min', verbose=1, patience=10)\n",
    "mc = ModelCheckpoint('best_model.h5', monitor='val_accuracy', mode='max', verbose=1, save_best_only=True)"
   ]
  },
  {
   "cell_type": "code",
   "execution_count": 17,
   "id": "09630297",
   "metadata": {},
   "outputs": [
    {
     "name": "stdout",
     "output_type": "stream",
     "text": [
      "Epoch 1/100\n",
      "165/194 [========================>.....] - ETA: 0s - loss: 0.3544 - accuracy: 0.9072 - precision: 0.8594 - recall: 0.9739      \n",
      "Epoch 1: val_accuracy improved from -inf to 0.95028, saving model to best_model.h5\n",
      "194/194 [==============================] - 1s 4ms/step - loss: 0.3302 - accuracy: 0.9127 - precision: 0.8649 - recall: 0.9777 - val_loss: 0.1985 - val_accuracy: 0.9503 - val_precision: 0.9116 - val_recall: 0.9977\n",
      "Epoch 2/100\n",
      "174/194 [=========================>....] - ETA: 0s - loss: 0.1581 - accuracy: 0.9499 - precision: 0.9093 - recall: 0.9993\n",
      "Epoch 2: val_accuracy improved from 0.95028 to 0.95480, saving model to best_model.h5\n",
      "194/194 [==============================] - 0s 2ms/step - loss: 0.1556 - accuracy: 0.9504 - precision: 0.9102 - recall: 0.9994 - val_loss: 0.1462 - val_accuracy: 0.9548 - val_precision: 0.9174 - val_recall: 1.0000\n",
      "Epoch 3/100\n",
      "161/194 [=======================>......] - ETA: 0s - loss: 0.1295 - accuracy: 0.9596 - precision: 0.9253 - recall: 1.0000\n",
      "Epoch 3: val_accuracy improved from 0.95480 to 0.96045, saving model to best_model.h5\n",
      "194/194 [==============================] - 0s 2ms/step - loss: 0.1260 - accuracy: 0.9616 - precision: 0.9285 - recall: 1.0000 - val_loss: 0.1287 - val_accuracy: 0.9605 - val_precision: 0.9270 - val_recall: 1.0000\n",
      "Epoch 4/100\n",
      "183/194 [===========================>..] - ETA: 0s - loss: 0.1076 - accuracy: 0.9657 - precision: 0.9354 - recall: 1.0000\n",
      "Epoch 4: val_accuracy improved from 0.96045 to 0.96347, saving model to best_model.h5\n",
      "194/194 [==============================] - 0s 2ms/step - loss: 0.1059 - accuracy: 0.9666 - precision: 0.9373 - recall: 1.0000 - val_loss: 0.1156 - val_accuracy: 0.9635 - val_precision: 0.9322 - val_recall: 1.0000\n",
      "Epoch 5/100\n",
      "178/194 [==========================>...] - ETA: 0s - loss: 0.0954 - accuracy: 0.9702 - precision: 0.9439 - recall: 0.9993\n",
      "Epoch 5: val_accuracy improved from 0.96347 to 0.96610, saving model to best_model.h5\n",
      "194/194 [==============================] - 0s 2ms/step - loss: 0.0932 - accuracy: 0.9708 - precision: 0.9452 - recall: 0.9994 - val_loss: 0.1094 - val_accuracy: 0.9661 - val_precision: 0.9368 - val_recall: 1.0000\n",
      "Epoch 6/100\n",
      "165/194 [========================>.....] - ETA: 0s - loss: 0.0814 - accuracy: 0.9754 - precision: 0.9531 - recall: 1.0000\n",
      "Epoch 6: val_accuracy improved from 0.96610 to 0.97363, saving model to best_model.h5\n",
      "194/194 [==============================] - 0s 2ms/step - loss: 0.0832 - accuracy: 0.9748 - precision: 0.9520 - recall: 1.0000 - val_loss: 0.0985 - val_accuracy: 0.9736 - val_precision: 0.9501 - val_recall: 1.0000\n",
      "Epoch 7/100\n",
      "172/194 [=========================>....] - ETA: 0s - loss: 0.0728 - accuracy: 0.9778 - precision: 0.9577 - recall: 1.0000\n",
      "Epoch 7: val_accuracy did not improve from 0.97363\n",
      "194/194 [==============================] - 0s 2ms/step - loss: 0.0741 - accuracy: 0.9771 - precision: 0.9561 - recall: 1.0000 - val_loss: 0.0902 - val_accuracy: 0.9718 - val_precision: 0.9467 - val_recall: 1.0000\n",
      "Epoch 8/100\n",
      "179/194 [==========================>...] - ETA: 0s - loss: 0.0658 - accuracy: 0.9787 - precision: 0.9592 - recall: 1.0000\n",
      "Epoch 8: val_accuracy improved from 0.97363 to 0.97589, saving model to best_model.h5\n",
      "194/194 [==============================] - 0s 2ms/step - loss: 0.0661 - accuracy: 0.9785 - precision: 0.9588 - recall: 1.0000 - val_loss: 0.0821 - val_accuracy: 0.9759 - val_precision: 0.9542 - val_recall: 1.0000\n",
      "Epoch 9/100\n",
      "181/194 [==========================>...] - ETA: 0s - loss: 0.0594 - accuracy: 0.9801 - precision: 0.9618 - recall: 1.0000\n",
      "Epoch 9: val_accuracy improved from 0.97589 to 0.98041, saving model to best_model.h5\n",
      "194/194 [==============================] - 0s 2ms/step - loss: 0.0603 - accuracy: 0.9800 - precision: 0.9614 - recall: 1.0000 - val_loss: 0.0813 - val_accuracy: 0.9804 - val_precision: 0.9625 - val_recall: 1.0000\n",
      "Epoch 10/100\n",
      "182/194 [===========================>..] - ETA: 0s - loss: 0.0552 - accuracy: 0.9839 - precision: 0.9686 - recall: 1.0000\n",
      "Epoch 10: val_accuracy did not improve from 0.98041\n",
      "194/194 [==============================] - 0s 2ms/step - loss: 0.0550 - accuracy: 0.9840 - precision: 0.9690 - recall: 1.0000 - val_loss: 0.0712 - val_accuracy: 0.9770 - val_precision: 0.9562 - val_recall: 1.0000\n",
      "Epoch 11/100\n",
      "162/194 [========================>.....] - ETA: 0s - loss: 0.0496 - accuracy: 0.9846 - precision: 0.9700 - recall: 1.0000\n",
      "Epoch 11: val_accuracy did not improve from 0.98041\n",
      "194/194 [==============================] - 0s 2ms/step - loss: 0.0479 - accuracy: 0.9853 - precision: 0.9714 - recall: 1.0000 - val_loss: 0.0728 - val_accuracy: 0.9751 - val_precision: 0.9528 - val_recall: 1.0000\n",
      "Epoch 12/100\n",
      "162/194 [========================>.....] - ETA: 0s - loss: 0.0447 - accuracy: 0.9859 - precision: 0.9727 - recall: 1.0000\n",
      "Epoch 12: val_accuracy improved from 0.98041 to 0.98117, saving model to best_model.h5\n",
      "194/194 [==============================] - 0s 2ms/step - loss: 0.0428 - accuracy: 0.9864 - precision: 0.9736 - recall: 1.0000 - val_loss: 0.0607 - val_accuracy: 0.9812 - val_precision: 0.9638 - val_recall: 1.0000\n",
      "Epoch 13/100\n",
      "170/194 [=========================>....] - ETA: 0s - loss: 0.0401 - accuracy: 0.9881 - precision: 0.9766 - recall: 1.0000\n",
      "Epoch 13: val_accuracy did not improve from 0.98117\n",
      "194/194 [==============================] - 0s 2ms/step - loss: 0.0394 - accuracy: 0.9885 - precision: 0.9776 - recall: 1.0000 - val_loss: 0.0564 - val_accuracy: 0.9800 - val_precision: 0.9618 - val_recall: 1.0000\n",
      "Epoch 14/100\n",
      "169/194 [=========================>....] - ETA: 0s - loss: 0.0351 - accuracy: 0.9895 - precision: 0.9794 - recall: 1.0000\n",
      "Epoch 14: val_accuracy improved from 0.98117 to 0.98192, saving model to best_model.h5\n",
      "194/194 [==============================] - 0s 2ms/step - loss: 0.0354 - accuracy: 0.9897 - precision: 0.9797 - recall: 1.0000 - val_loss: 0.0537 - val_accuracy: 0.9819 - val_precision: 0.9652 - val_recall: 1.0000\n",
      "Epoch 15/100\n",
      "169/194 [=========================>....] - ETA: 0s - loss: 0.0325 - accuracy: 0.9906 - precision: 0.9813 - recall: 1.0000\n",
      "Epoch 15: val_accuracy improved from 0.98192 to 0.98267, saving model to best_model.h5\n",
      "194/194 [==============================] - 0s 2ms/step - loss: 0.0319 - accuracy: 0.9908 - precision: 0.9819 - recall: 1.0000 - val_loss: 0.0522 - val_accuracy: 0.9827 - val_precision: 0.9666 - val_recall: 1.0000\n",
      "Epoch 16/100\n",
      "167/194 [========================>.....] - ETA: 0s - loss: 0.0288 - accuracy: 0.9916 - precision: 0.9834 - recall: 1.0000\n",
      "Epoch 16: val_accuracy did not improve from 0.98267\n",
      "194/194 [==============================] - 0s 2ms/step - loss: 0.0295 - accuracy: 0.9918 - precision: 0.9838 - recall: 1.0000 - val_loss: 0.0598 - val_accuracy: 0.9789 - val_precision: 0.9597 - val_recall: 1.0000\n",
      "Epoch 17/100\n",
      "193/194 [============================>.] - ETA: 0s - loss: 0.0267 - accuracy: 0.9924 - precision: 0.9850 - recall: 1.0000\n",
      "Epoch 17: val_accuracy improved from 0.98267 to 0.98380, saving model to best_model.h5\n",
      "194/194 [==============================] - 0s 2ms/step - loss: 0.0267 - accuracy: 0.9924 - precision: 0.9850 - recall: 1.0000 - val_loss: 0.0477 - val_accuracy: 0.9838 - val_precision: 0.9688 - val_recall: 1.0000\n",
      "Epoch 18/100\n",
      "159/194 [=======================>......] - ETA: 0s - loss: 0.0242 - accuracy: 0.9935 - precision: 0.9873 - recall: 1.0000\n",
      "Epoch 18: val_accuracy did not improve from 0.98380\n",
      "194/194 [==============================] - 0s 2ms/step - loss: 0.0243 - accuracy: 0.9934 - precision: 0.9869 - recall: 1.0000 - val_loss: 0.0462 - val_accuracy: 0.9834 - val_precision: 0.9680 - val_recall: 1.0000\n",
      "Epoch 19/100\n",
      "173/194 [=========================>....] - ETA: 0s - loss: 0.0221 - accuracy: 0.9939 - precision: 0.9879 - recall: 1.0000\n",
      "Epoch 19: val_accuracy improved from 0.98380 to 0.99247, saving model to best_model.h5\n",
      "194/194 [==============================] - 0s 2ms/step - loss: 0.0223 - accuracy: 0.9934 - precision: 0.9869 - recall: 1.0000 - val_loss: 0.0408 - val_accuracy: 0.9925 - val_precision: 0.9852 - val_recall: 1.0000\n",
      "Epoch 20/100\n",
      "181/194 [==========================>...] - ETA: 0s - loss: 0.0208 - accuracy: 0.9946 - precision: 0.9894 - recall: 1.0000\n",
      "Epoch 20: val_accuracy did not improve from 0.99247\n"
     ]
    },
    {
     "name": "stdout",
     "output_type": "stream",
     "text": [
      "194/194 [==============================] - 0s 2ms/step - loss: 0.0208 - accuracy: 0.9944 - precision: 0.9888 - recall: 1.0000 - val_loss: 0.0374 - val_accuracy: 0.9913 - val_precision: 0.9830 - val_recall: 1.0000\n",
      "Epoch 21/100\n",
      "168/194 [========================>.....] - ETA: 0s - loss: 0.0185 - accuracy: 0.9952 - precision: 0.9903 - recall: 1.0000\n",
      "Epoch 21: val_accuracy did not improve from 0.99247\n",
      "194/194 [==============================] - 0s 2ms/step - loss: 0.0187 - accuracy: 0.9948 - precision: 0.9898 - recall: 1.0000 - val_loss: 0.0364 - val_accuracy: 0.9887 - val_precision: 0.9780 - val_recall: 1.0000\n",
      "Epoch 22/100\n",
      "185/194 [===========================>..] - ETA: 0s - loss: 0.0157 - accuracy: 0.9961 - precision: 0.9923 - recall: 1.0000\n",
      "Epoch 22: val_accuracy did not improve from 0.99247\n",
      "194/194 [==============================] - 0s 2ms/step - loss: 0.0155 - accuracy: 0.9963 - precision: 0.9926 - recall: 1.0000 - val_loss: 0.0403 - val_accuracy: 0.9853 - val_precision: 0.9716 - val_recall: 1.0000\n",
      "Epoch 23/100\n",
      "171/194 [=========================>....] - ETA: 0s - loss: 0.0149 - accuracy: 0.9960 - precision: 0.9920 - recall: 1.0000\n",
      "Epoch 23: val_accuracy did not improve from 0.99247\n",
      "194/194 [==============================] - 0s 2ms/step - loss: 0.0149 - accuracy: 0.9960 - precision: 0.9920 - recall: 1.0000 - val_loss: 0.0353 - val_accuracy: 0.9887 - val_precision: 0.9780 - val_recall: 1.0000\n",
      "Epoch 24/100\n",
      "191/194 [============================>.] - ETA: 0s - loss: 0.0134 - accuracy: 0.9969 - precision: 0.9938 - recall: 1.0000\n",
      "Epoch 24: val_accuracy did not improve from 0.99247\n",
      "194/194 [==============================] - 0s 2ms/step - loss: 0.0134 - accuracy: 0.9969 - precision: 0.9939 - recall: 1.0000 - val_loss: 0.0327 - val_accuracy: 0.9902 - val_precision: 0.9809 - val_recall: 1.0000\n",
      "Epoch 25/100\n",
      "177/194 [==========================>...] - ETA: 0s - loss: 0.0123 - accuracy: 0.9972 - precision: 0.9943 - recall: 1.0000\n",
      "Epoch 25: val_accuracy did not improve from 0.99247\n",
      "194/194 [==============================] - 0s 2ms/step - loss: 0.0119 - accuracy: 0.9974 - precision: 0.9949 - recall: 1.0000 - val_loss: 0.0412 - val_accuracy: 0.9853 - val_precision: 0.9716 - val_recall: 1.0000\n",
      "Epoch 26/100\n",
      "184/194 [===========================>..] - ETA: 0s - loss: 0.0118 - accuracy: 0.9976 - precision: 0.9952 - recall: 1.0000\n",
      "Epoch 26: val_accuracy did not improve from 0.99247\n",
      "194/194 [==============================] - 0s 2ms/step - loss: 0.0117 - accuracy: 0.9977 - precision: 0.9955 - recall: 1.0000 - val_loss: 0.0295 - val_accuracy: 0.9917 - val_precision: 0.9838 - val_recall: 1.0000\n",
      "Epoch 27/100\n",
      "176/194 [==========================>...] - ETA: 0s - loss: 0.0107 - accuracy: 0.9979 - precision: 0.9957 - recall: 1.0000\n",
      "Epoch 27: val_accuracy did not improve from 0.99247\n",
      "194/194 [==============================] - 0s 2ms/step - loss: 0.0111 - accuracy: 0.9977 - precision: 0.9955 - recall: 1.0000 - val_loss: 0.0361 - val_accuracy: 0.9879 - val_precision: 0.9766 - val_recall: 1.0000\n",
      "Epoch 28/100\n",
      "173/194 [=========================>....] - ETA: 0s - loss: 0.0098 - accuracy: 0.9978 - precision: 0.9957 - recall: 1.0000\n",
      "Epoch 28: val_accuracy improved from 0.99247 to 0.99397, saving model to best_model.h5\n",
      "194/194 [==============================] - 0s 2ms/step - loss: 0.0102 - accuracy: 0.9977 - precision: 0.9955 - recall: 1.0000 - val_loss: 0.0262 - val_accuracy: 0.9940 - val_precision: 0.9881 - val_recall: 1.0000\n",
      "Epoch 29/100\n",
      "173/194 [=========================>....] - ETA: 0s - loss: 0.0094 - accuracy: 0.9978 - precision: 0.9957 - recall: 1.0000\n",
      "Epoch 29: val_accuracy did not improve from 0.99397\n",
      "194/194 [==============================] - 0s 2ms/step - loss: 0.0088 - accuracy: 0.9981 - precision: 0.9961 - recall: 1.0000 - val_loss: 0.0347 - val_accuracy: 0.9883 - val_precision: 0.9773 - val_recall: 1.0000\n",
      "Epoch 30/100\n",
      "168/194 [========================>.....] - ETA: 0s - loss: 0.0081 - accuracy: 0.9980 - precision: 0.9959 - recall: 1.0000\n",
      "Epoch 30: val_accuracy did not improve from 0.99397\n",
      "194/194 [==============================] - 0s 2ms/step - loss: 0.0081 - accuracy: 0.9981 - precision: 0.9961 - recall: 1.0000 - val_loss: 0.0281 - val_accuracy: 0.9910 - val_precision: 0.9823 - val_recall: 1.0000\n",
      "Epoch 31/100\n",
      "182/194 [===========================>..] - ETA: 0s - loss: 0.0070 - accuracy: 0.9983 - precision: 0.9966 - recall: 1.0000\n",
      "Epoch 31: val_accuracy did not improve from 0.99397\n",
      "194/194 [==============================] - 0s 2ms/step - loss: 0.0069 - accuracy: 0.9984 - precision: 0.9968 - recall: 1.0000 - val_loss: 0.0309 - val_accuracy: 0.9898 - val_precision: 0.9801 - val_recall: 1.0000\n",
      "Epoch 32/100\n",
      "137/194 [====================>.........] - ETA: 0s - loss: 0.0069 - accuracy: 0.9989 - precision: 0.9977 - recall: 1.0000\n",
      "Epoch 32: val_accuracy did not improve from 0.99397\n",
      "194/194 [==============================] - 0s 2ms/step - loss: 0.0068 - accuracy: 0.9989 - precision: 0.9977 - recall: 1.0000 - val_loss: 0.0276 - val_accuracy: 0.9913 - val_precision: 0.9830 - val_recall: 1.0000\n",
      "Epoch 33/100\n",
      "163/194 [========================>.....] - ETA: 0s - loss: 0.0068 - accuracy: 0.9983 - precision: 0.9966 - recall: 1.0000\n",
      "Epoch 33: val_accuracy did not improve from 0.99397\n",
      "194/194 [==============================] - 0s 2ms/step - loss: 0.0065 - accuracy: 0.9985 - precision: 0.9971 - recall: 1.0000 - val_loss: 0.0255 - val_accuracy: 0.9921 - val_precision: 0.9845 - val_recall: 1.0000\n",
      "Epoch 34/100\n",
      "167/194 [========================>.....] - ETA: 0s - loss: 0.0060 - accuracy: 0.9985 - precision: 0.9970 - recall: 1.0000\n",
      "Epoch 34: val_accuracy did not improve from 0.99397\n",
      "194/194 [==============================] - 0s 2ms/step - loss: 0.0061 - accuracy: 0.9987 - precision: 0.9974 - recall: 1.0000 - val_loss: 0.0232 - val_accuracy: 0.9932 - val_precision: 0.9867 - val_recall: 1.0000\n",
      "Epoch 35/100\n",
      "166/194 [========================>.....] - ETA: 0s - loss: 0.0049 - accuracy: 0.9992 - precision: 0.9985 - recall: 1.0000\n",
      "Epoch 35: val_accuracy did not improve from 0.99397\n",
      "194/194 [==============================] - 0s 2ms/step - loss: 0.0050 - accuracy: 0.9994 - precision: 0.9987 - recall: 1.0000 - val_loss: 0.0217 - val_accuracy: 0.9940 - val_precision: 0.9881 - val_recall: 1.0000\n",
      "Epoch 36/100\n",
      "168/194 [========================>.....] - ETA: 0s - loss: 0.0051 - accuracy: 0.9991 - precision: 0.9981 - recall: 1.0000\n",
      "Epoch 36: val_accuracy did not improve from 0.99397\n",
      "194/194 [==============================] - 0s 2ms/step - loss: 0.0048 - accuracy: 0.9992 - precision: 0.9984 - recall: 1.0000 - val_loss: 0.0260 - val_accuracy: 0.9921 - val_precision: 0.9845 - val_recall: 1.0000\n",
      "Epoch 37/100\n",
      "175/194 [==========================>...] - ETA: 0s - loss: 0.0042 - accuracy: 0.9993 - precision: 0.9986 - recall: 1.0000\n",
      "Epoch 37: val_accuracy improved from 0.99397 to 0.99473, saving model to best_model.h5\n",
      "194/194 [==============================] - 0s 2ms/step - loss: 0.0042 - accuracy: 0.9992 - precision: 0.9984 - recall: 1.0000 - val_loss: 0.0218 - val_accuracy: 0.9947 - val_precision: 0.9896 - val_recall: 1.0000\n",
      "Epoch 38/100\n",
      "187/194 [===========================>..] - ETA: 0s - loss: 0.0040 - accuracy: 0.9995 - precision: 0.9990 - recall: 1.0000\n",
      "Epoch 38: val_accuracy did not improve from 0.99473\n",
      "194/194 [==============================] - 0s 2ms/step - loss: 0.0039 - accuracy: 0.9995 - precision: 0.9990 - recall: 1.0000 - val_loss: 0.0316 - val_accuracy: 0.9906 - val_precision: 0.9816 - val_recall: 1.0000\n",
      "Epoch 39/100\n",
      "175/194 [==========================>...] - ETA: 0s - loss: 0.0036 - accuracy: 0.9995 - precision: 0.9989 - recall: 1.0000\n",
      "Epoch 39: val_accuracy did not improve from 0.99473\n",
      "194/194 [==============================] - 0s 2ms/step - loss: 0.0036 - accuracy: 0.9995 - precision: 0.9990 - recall: 1.0000 - val_loss: 0.0282 - val_accuracy: 0.9913 - val_precision: 0.9830 - val_recall: 1.0000\n",
      "Epoch 40/100\n",
      "174/194 [=========================>....] - ETA: 0s - loss: 0.0049 - accuracy: 0.9991 - precision: 0.9982 - recall: 1.0000 \n",
      "Epoch 40: val_accuracy did not improve from 0.99473\n",
      "194/194 [==============================] - 0s 2ms/step - loss: 0.0045 - accuracy: 0.9992 - precision: 0.9984 - recall: 1.0000 - val_loss: 0.0252 - val_accuracy: 0.9921 - val_precision: 0.9845 - val_recall: 1.0000\n"
     ]
    },
    {
     "name": "stdout",
     "output_type": "stream",
     "text": [
      "Epoch 41/100\n",
      "175/194 [==========================>...] - ETA: 0s - loss: 0.0039 - accuracy: 0.9993 - precision: 0.9986 - recall: 1.0000\n",
      "Epoch 41: val_accuracy did not improve from 0.99473\n",
      "194/194 [==============================] - 0s 2ms/step - loss: 0.0037 - accuracy: 0.9994 - precision: 0.9987 - recall: 1.0000 - val_loss: 0.0276 - val_accuracy: 0.9917 - val_precision: 0.9838 - val_recall: 1.0000\n",
      "Epoch 42/100\n",
      "176/194 [==========================>...] - ETA: 0s - loss: 0.0029 - accuracy: 0.9995 - precision: 0.9989 - recall: 1.0000\n",
      "Epoch 42: val_accuracy did not improve from 0.99473\n",
      "194/194 [==============================] - 0s 2ms/step - loss: 0.0029 - accuracy: 0.9995 - precision: 0.9990 - recall: 1.0000 - val_loss: 0.0288 - val_accuracy: 0.9921 - val_precision: 0.9845 - val_recall: 1.0000\n",
      "Epoch 43/100\n",
      "163/194 [========================>.....] - ETA: 0s - loss: 0.0026 - accuracy: 0.9998 - precision: 0.9996 - recall: 1.0000 \n",
      "Epoch 43: val_accuracy did not improve from 0.99473\n",
      "194/194 [==============================] - 0s 2ms/step - loss: 0.0027 - accuracy: 0.9997 - precision: 0.9994 - recall: 1.0000 - val_loss: 0.0341 - val_accuracy: 0.9891 - val_precision: 0.9787 - val_recall: 1.0000\n",
      "Epoch 44/100\n",
      "188/194 [============================>.] - ETA: 0s - loss: 0.0032 - accuracy: 0.9995 - precision: 0.9990 - recall: 1.0000\n",
      "Epoch 44: val_accuracy did not improve from 0.99473\n",
      "194/194 [==============================] - 0s 2ms/step - loss: 0.0031 - accuracy: 0.9995 - precision: 0.9990 - recall: 1.0000 - val_loss: 0.0259 - val_accuracy: 0.9925 - val_precision: 0.9852 - val_recall: 1.0000\n",
      "Epoch 45/100\n",
      "174/194 [=========================>....] - ETA: 0s - loss: 0.0025 - accuracy: 0.9995 - precision: 0.9989 - recall: 1.0000 \n",
      "Epoch 45: val_accuracy did not improve from 0.99473\n",
      "194/194 [==============================] - 0s 2ms/step - loss: 0.0026 - accuracy: 0.9994 - precision: 0.9987 - recall: 1.0000 - val_loss: 0.0204 - val_accuracy: 0.9940 - val_precision: 0.9881 - val_recall: 1.0000\n",
      "Epoch 46/100\n",
      "193/194 [============================>.] - ETA: 0s - loss: 0.0028 - accuracy: 0.9994 - precision: 0.9987 - recall: 1.0000\n",
      "Epoch 46: val_accuracy did not improve from 0.99473\n",
      "194/194 [==============================] - 0s 2ms/step - loss: 0.0028 - accuracy: 0.9994 - precision: 0.9987 - recall: 1.0000 - val_loss: 0.0211 - val_accuracy: 0.9928 - val_precision: 0.9859 - val_recall: 1.0000\n",
      "Epoch 47/100\n",
      "183/194 [===========================>..] - ETA: 0s - loss: 0.0018 - accuracy: 0.9998 - precision: 0.9997 - recall: 1.0000\n",
      "Epoch 47: val_accuracy did not improve from 0.99473\n",
      "194/194 [==============================] - 0s 2ms/step - loss: 0.0017 - accuracy: 0.9998 - precision: 0.9997 - recall: 1.0000 - val_loss: 0.0246 - val_accuracy: 0.9925 - val_precision: 0.9852 - val_recall: 1.0000\n",
      "Epoch 48/100\n",
      "169/194 [=========================>....] - ETA: 0s - loss: 0.0015 - accuracy: 0.9998 - precision: 0.9996 - recall: 1.0000 \n",
      "Epoch 48: val_accuracy did not improve from 0.99473\n",
      "194/194 [==============================] - 0s 2ms/step - loss: 0.0016 - accuracy: 0.9998 - precision: 0.9997 - recall: 1.0000 - val_loss: 0.0233 - val_accuracy: 0.9932 - val_precision: 0.9867 - val_recall: 1.0000\n",
      "Epoch 49/100\n",
      "169/194 [=========================>....] - ETA: 0s - loss: 0.0014 - accuracy: 1.0000 - precision: 1.0000 - recall: 1.0000 \n",
      "Epoch 49: val_accuracy did not improve from 0.99473\n",
      "194/194 [==============================] - 0s 2ms/step - loss: 0.0014 - accuracy: 1.0000 - precision: 1.0000 - recall: 1.0000 - val_loss: 0.0364 - val_accuracy: 0.9906 - val_precision: 0.9816 - val_recall: 1.0000\n",
      "Epoch 50/100\n",
      "193/194 [============================>.] - ETA: 0s - loss: 0.0017 - accuracy: 0.9998 - precision: 0.9997 - recall: 1.0000 \n",
      "Epoch 50: val_accuracy improved from 0.99473 to 0.99548, saving model to best_model.h5\n",
      "194/194 [==============================] - 0s 2ms/step - loss: 0.0017 - accuracy: 0.9998 - precision: 0.9997 - recall: 1.0000 - val_loss: 0.0176 - val_accuracy: 0.9955 - val_precision: 0.9911 - val_recall: 1.0000\n",
      "Epoch 51/100\n",
      "180/194 [==========================>...] - ETA: 0s - loss: 0.0012 - accuracy: 1.0000 - precision: 1.0000 - recall: 1.0000   \n",
      "Epoch 51: val_accuracy did not improve from 0.99548\n",
      "194/194 [==============================] - 0s 2ms/step - loss: 0.0012 - accuracy: 1.0000 - precision: 1.0000 - recall: 1.0000 - val_loss: 0.0214 - val_accuracy: 0.9932 - val_precision: 0.9867 - val_recall: 1.0000\n",
      "Epoch 52/100\n",
      "158/194 [=======================>......] - ETA: 0s - loss: 0.0017 - accuracy: 0.9998 - precision: 0.9996 - recall: 1.0000  \n",
      "Epoch 52: val_accuracy did not improve from 0.99548\n",
      "194/194 [==============================] - 0s 2ms/step - loss: 0.0016 - accuracy: 0.9998 - precision: 0.9997 - recall: 1.0000 - val_loss: 0.0240 - val_accuracy: 0.9932 - val_precision: 0.9867 - val_recall: 1.0000\n",
      "Epoch 53/100\n",
      "154/194 [======================>.......] - ETA: 0s - loss: 0.0013 - accuracy: 0.9998 - precision: 0.9996 - recall: 1.0000   \n",
      "Epoch 53: val_accuracy did not improve from 0.99548\n",
      "194/194 [==============================] - 0s 2ms/step - loss: 0.0012 - accuracy: 0.9998 - precision: 0.9997 - recall: 1.0000 - val_loss: 0.0208 - val_accuracy: 0.9936 - val_precision: 0.9874 - val_recall: 1.0000\n",
      "Epoch 54/100\n",
      "180/194 [==========================>...] - ETA: 0s - loss: 0.0010 - accuracy: 0.9998 - precision: 0.9997 - recall: 1.0000   \n",
      "Epoch 54: val_accuracy did not improve from 0.99548\n",
      "194/194 [==============================] - 0s 2ms/step - loss: 0.0011 - accuracy: 0.9998 - precision: 0.9997 - recall: 1.0000 - val_loss: 0.0175 - val_accuracy: 0.9955 - val_precision: 0.9911 - val_recall: 1.0000\n",
      "Epoch 55/100\n",
      "192/194 [============================>.] - ETA: 0s - loss: 0.0011 - accuracy: 1.0000 - precision: 1.0000 - recall: 1.0000  \n",
      "Epoch 55: val_accuracy did not improve from 0.99548\n",
      "194/194 [==============================] - 0s 2ms/step - loss: 0.0011 - accuracy: 1.0000 - precision: 1.0000 - recall: 1.0000 - val_loss: 0.0274 - val_accuracy: 0.9932 - val_precision: 0.9867 - val_recall: 1.0000\n",
      "Epoch 56/100\n",
      "171/194 [=========================>....] - ETA: 0s - loss: 0.0011 - accuracy: 0.9998 - precision: 0.9996 - recall: 1.0000 \n",
      "Epoch 56: val_accuracy did not improve from 0.99548\n",
      "194/194 [==============================] - 0s 2ms/step - loss: 0.0011 - accuracy: 0.9998 - precision: 0.9997 - recall: 1.0000 - val_loss: 0.0265 - val_accuracy: 0.9928 - val_precision: 0.9859 - val_recall: 1.0000\n",
      "Epoch 57/100\n",
      "168/194 [========================>.....] - ETA: 0s - loss: 8.7215e-04 - accuracy: 1.0000 - precision: 1.0000 - recall: 1.0000\n",
      "Epoch 57: val_accuracy did not improve from 0.99548\n",
      "194/194 [==============================] - 0s 2ms/step - loss: 8.5462e-04 - accuracy: 1.0000 - precision: 1.0000 - recall: 1.0000 - val_loss: 0.0242 - val_accuracy: 0.9932 - val_precision: 0.9867 - val_recall: 1.0000\n",
      "Epoch 58/100\n",
      "166/194 [========================>.....] - ETA: 0s - loss: 8.8479e-04 - accuracy: 1.0000 - precision: 1.0000 - recall: 1.0000\n",
      "Epoch 58: val_accuracy did not improve from 0.99548\n",
      "194/194 [==============================] - 0s 2ms/step - loss: 8.7516e-04 - accuracy: 1.0000 - precision: 1.0000 - recall: 1.0000 - val_loss: 0.0292 - val_accuracy: 0.9917 - val_precision: 0.9838 - val_recall: 1.0000\n",
      "Epoch 59/100\n",
      "171/194 [=========================>....] - ETA: 0s - loss: 8.3120e-04 - accuracy: 1.0000 - precision: 1.0000 - recall: 1.0000\n",
      "Epoch 59: val_accuracy did not improve from 0.99548\n",
      "194/194 [==============================] - 0s 2ms/step - loss: 7.8531e-04 - accuracy: 1.0000 - precision: 1.0000 - recall: 1.0000 - val_loss: 0.0225 - val_accuracy: 0.9940 - val_precision: 0.9881 - val_recall: 1.0000\n",
      "Epoch 60/100\n",
      "166/194 [========================>.....] - ETA: 0s - loss: 5.4161e-04 - accuracy: 1.0000 - precision: 1.0000 - recall: 1.0000\n",
      "Epoch 60: val_accuracy did not improve from 0.99548\n",
      "194/194 [==============================] - 0s 2ms/step - loss: 5.5788e-04 - accuracy: 1.0000 - precision: 1.0000 - recall: 1.0000 - val_loss: 0.0216 - val_accuracy: 0.9944 - val_precision: 0.9889 - val_recall: 1.0000\n",
      "Epoch 61/100\n"
     ]
    },
    {
     "name": "stdout",
     "output_type": "stream",
     "text": [
      "161/194 [=======================>......] - ETA: 0s - loss: 6.9082e-04 - accuracy: 1.0000 - precision: 1.0000 - recall: 1.0000\n",
      "Epoch 61: val_accuracy did not improve from 0.99548\n",
      "194/194 [==============================] - 0s 2ms/step - loss: 6.6992e-04 - accuracy: 1.0000 - precision: 1.0000 - recall: 1.0000 - val_loss: 0.0297 - val_accuracy: 0.9925 - val_precision: 0.9852 - val_recall: 1.0000\n",
      "Epoch 62/100\n",
      "189/194 [============================>.] - ETA: 0s - loss: 9.6443e-04 - accuracy: 1.0000 - precision: 1.0000 - recall: 1.0000\n",
      "Epoch 62: val_accuracy did not improve from 0.99548\n",
      "194/194 [==============================] - 0s 2ms/step - loss: 9.5516e-04 - accuracy: 1.0000 - precision: 1.0000 - recall: 1.0000 - val_loss: 0.0259 - val_accuracy: 0.9928 - val_precision: 0.9859 - val_recall: 1.0000\n",
      "Epoch 63/100\n",
      "153/194 [======================>.......] - ETA: 0s - loss: 6.2521e-04 - accuracy: 1.0000 - precision: 1.0000 - recall: 1.0000\n",
      "Epoch 63: val_accuracy did not improve from 0.99548\n",
      "194/194 [==============================] - 0s 2ms/step - loss: 6.0210e-04 - accuracy: 1.0000 - precision: 1.0000 - recall: 1.0000 - val_loss: 0.0274 - val_accuracy: 0.9928 - val_precision: 0.9859 - val_recall: 1.0000\n",
      "Epoch 64/100\n",
      "168/194 [========================>.....] - ETA: 0s - loss: 3.1626e-04 - accuracy: 1.0000 - precision: 1.0000 - recall: 1.0000\n",
      "Epoch 64: val_accuracy did not improve from 0.99548\n",
      "194/194 [==============================] - 0s 2ms/step - loss: 3.4870e-04 - accuracy: 1.0000 - precision: 1.0000 - recall: 1.0000 - val_loss: 0.0175 - val_accuracy: 0.9955 - val_precision: 0.9911 - val_recall: 1.0000\n",
      "Epoch 64: early stopping\n"
     ]
    }
   ],
   "source": [
    "history = model.fit(X, Y, validation_data=(val_x, val_y), epochs=100, verbose=1, callbacks=[es, mc] )"
   ]
  },
  {
   "cell_type": "code",
   "execution_count": 18,
   "id": "750a68ba",
   "metadata": {},
   "outputs": [],
   "source": [
    "saved_model = load_model('best_model.h5')"
   ]
  },
  {
   "cell_type": "code",
   "execution_count": 19,
   "id": "8733ea31",
   "metadata": {},
   "outputs": [
    {
     "name": "stdout",
     "output_type": "stream",
     "text": [
      "Train: 1.000, Test: 0.987\n",
      "Train: 1.000, Test: 0.308\n",
      "Train: 1.000, Test: 0.533\n"
     ]
    }
   ],
   "source": [
    "train_loss , train_acc, train_prec, train_recall = saved_model.evaluate(X, Y, verbose=0)\n",
    "test_loss , test_acc, test_prec, test_recall = saved_model.evaluate(scaled_test, y_test, verbose=0)\n",
    "print('Train: %.3f, Test: %.3f' % (train_acc, test_acc))\n",
    "print('Train: %.3f, Test: %.3f' % (train_prec, test_prec))\n",
    "print('Train: %.3f, Test: %.3f' % (train_recall, test_recall))"
   ]
  },
  {
   "cell_type": "code",
   "execution_count": 20,
   "id": "b9d8daf4",
   "metadata": {},
   "outputs": [
    {
     "data": {
      "image/png": "[encoded data removed]",
      "text/plain": [
       "<Figure size 432x288 with 1 Axes>"
      ]
     },
     "metadata": {
      "needs_background": "light"
     },
     "output_type": "display_data"
    }
   ],
   "source": [
    "plt.plot(history.history['loss'], label='train')\n",
    "plt.plot(history.history['val_loss'], label='test')\n",
    "plt.legend()\n",
    "plt.show()"
   ]
  },
  {
   "cell_type": "code",
   "execution_count": null,
   "id": "6935703d",
   "metadata": {},
   "outputs": [],
   "source": []
  },
  {
   "cell_type": "markdown",
   "id": "e76d1efd",
   "metadata": {},
   "source": [
    "# Applying CNN model "
   ]
  },
  {
   "cell_type": "code",
   "execution_count": null,
   "id": "d7b59860",
   "metadata": {},
   "outputs": [],
   "source": [
    "# The x_train and y_train are reshape to input to the CNN model\n",
    "\n",
    "X_tr = (scaled_train.values).reshape(8850,89,1,-1)\n",
    "Y_tr = (pd.DataFrame(y_train_res).values).reshape(8850,1,-1)"
   ]
  },
  {
   "cell_type": "code",
   "execution_count": null,
   "id": "aec62661",
   "metadata": {},
   "outputs": [],
   "source": [
    "model = Sequential()\n",
    "model.add(tfl.Conv2D(32, input_shape = (8850, 89,1), kernel_size=(50,89)))\n",
    "# model.add(tfl.Conv2D(64, kernel_size=(5,5), activation='relu'))\n",
    "model.add(tfl.Flatten())\n",
    "model.add((tfl.Dense(64, activation='relu')))\n",
    "model.add(tfl.Dense(1, activation='sigmoid'))\n",
    "model.summary()\n",
    "model.compile(optimizer='adam', loss='binary_crossentropy',metrics=['accuracy'])"
   ]
  },
  {
   "cell_type": "code",
   "execution_count": null,
   "id": "82de6c6c",
   "metadata": {},
   "outputs": [],
   "source": []
  },
  {
   "cell_type": "code",
   "execution_count": null,
   "id": "ed8cfc39",
   "metadata": {},
   "outputs": [],
   "source": [
    "model.fit(X_tr,Y_tr,epochs=80)"
   ]
  },
  {
   "cell_type": "code",
   "execution_count": null,
   "id": "8c521c32",
   "metadata": {},
   "outputs": [],
   "source": []
  },
  {
   "cell_type": "code",
   "execution_count": null,
   "id": "7535f877",
   "metadata": {},
   "outputs": [],
   "source": []
  },
  {
   "cell_type": "code",
   "execution_count": null,
   "id": "e0ad7246",
   "metadata": {},
   "outputs": [],
   "source": []
  },
  {
   "cell_type": "markdown",
   "id": "d67f5aaf",
   "metadata": {},
   "source": [
    "# Applying LSTM model"
   ]
  },
  {
   "cell_type": "code",
   "execution_count": null,
   "id": "27544a34",
   "metadata": {},
   "outputs": [],
   "source": [
    "model = Sequential()\n",
    "model.add(LSTM(64, input_shape=(8850,89), activation='relu'))\n",
    "model.add(Dropout(0.5))\n",
    "# model.add(LSTM(128))\n",
    "# model.add(Dropout(0.5))\n",
    "# model.add(LSTM(256))\n",
    "# model.add(Dropout(0.5))\n",
    "# model.add(LSTM(64))\n",
    "# model.add(Dropout(0.5))\n",
    "model.add(Dense(8850, activation='sigmoid'))\n",
    "model.compile(loss='binary_crossentropy', optimizer='adam', metrics=['accuracy', keras.metrics.Precision(),\n",
    "                                                                     keras.metrics.Recall()])"
   ]
  },
  {
   "cell_type": "code",
   "execution_count": null,
   "id": "8cc5d4bf",
   "metadata": {},
   "outputs": [],
   "source": [
    "X = np.array(scaled_train).reshape((-1,8850,89))\n",
    "Y = np.array(y_train_res).reshape((-1,8850))"
   ]
  },
  {
   "cell_type": "code",
   "execution_count": null,
   "id": "82f09268",
   "metadata": {},
   "outputs": [],
   "source": [
    "X_tst = np.array(scaled_test).reshape((-1,1919,89))\n",
    "Y_tst = np.array(y_test).reshape((-1,1919))"
   ]
  },
  {
   "cell_type": "code",
   "execution_count": null,
   "id": "ebbb40d2",
   "metadata": {},
   "outputs": [],
   "source": [
    "scaled_test.shape"
   ]
  },
  {
   "cell_type": "code",
   "execution_count": null,
   "id": "0d4ced7b",
   "metadata": {},
   "outputs": [],
   "source": [
    "X"
   ]
  },
  {
   "cell_type": "code",
   "execution_count": null,
   "id": "0842bca5",
   "metadata": {
    "scrolled": true
   },
   "outputs": [],
   "source": [
    "model.fit(X,Y, epochs=50, shuffle=True, verbose=2)"
   ]
  },
  {
   "cell_type": "code",
   "execution_count": null,
   "id": "f1784cf1",
   "metadata": {},
   "outputs": [],
   "source": [
    "Performance = model.evaluate(X_tst, Y_tst, verbose=0)"
   ]
  },
  {
   "cell_type": "code",
   "execution_count": null,
   "id": "8ab68036",
   "metadata": {},
   "outputs": [],
   "source": [
    "Performance"
   ]
  },
  {
   "cell_type": "code",
   "execution_count": null,
   "id": "26792345",
   "metadata": {},
   "outputs": [],
   "source": []
  }
 ],
 "metadata": {
  "kernelspec": {
   "display_name": "Python 3 (ipykernel)",
   "language": "python",
   "name": "python3"
  },
  "language_info": {
   "codemirror_mode": {
    "name": "ipython",
    "version": 3
   },
   "file_extension": ".py",
   "mimetype": "text/x-python",
   "name": "python",
   "nbconvert_exporter": "python",
   "pygments_lexer": "ipython3",
   "version": "3.9.7"
  }
 },
 "nbformat": 4,
 "nbformat_minor": 5
}
