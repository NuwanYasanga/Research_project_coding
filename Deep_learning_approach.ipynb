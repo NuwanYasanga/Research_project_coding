{
 "cells": [
  {
   "cell_type": "markdown",
   "id": "ad848c0b",
   "metadata": {},
   "source": [
    "# Import libraries"
   ]
  },
  {
   "cell_type": "code",
   "execution_count": 2,
   "id": "9451c366",
   "metadata": {},
   "outputs": [],
   "source": [
    "import math\n",
    "import numpy as np\n",
    "import pandas as pd\n",
    "import h5py\n",
    "import matplotlib.pyplot as plt\n",
    "from imblearn.over_sampling import SMOTE\n",
    "from sklearn.preprocessing import MinMaxScaler\n",
    "import scipy\n",
    "from PIL import Image\n",
    "import pandas as pd\n",
    "import tensorflow as tf\n",
    "from tensorflow.keras import Sequential \n",
    "from tensorflow.keras.metrics import Precision, Recall\n",
    "import tensorflow.keras.layers as tfl\n",
    "from tensorflow.python.framework import ops\n",
    "from sklearn.preprocessing import LabelBinarizer"
   ]
  },
  {
   "cell_type": "markdown",
   "id": "3ffa18c3",
   "metadata": {},
   "source": [
    "# Load the dataset"
   ]
  },
  {
   "cell_type": "code",
   "execution_count": 2,
   "id": "77502522",
   "metadata": {},
   "outputs": [],
   "source": [
    "all_merged = pd.read_csv('C:/Users/s3929438/all_features_desktop_100_final_latest.csv')"
   ]
  },
  {
   "cell_type": "markdown",
   "id": "b094b588",
   "metadata": {},
   "source": [
    "# Select a single user\n",
    "## Create the training and testing sets for the user\n"
   ]
  },
  {
   "cell_type": "code",
   "execution_count": 3,
   "id": "1d47a5db",
   "metadata": {},
   "outputs": [],
   "source": [
    "user_train_set = all_merged[all_merged['User']==1].sample(frac=0.7, random_state=42)\n",
    "sample_ids = all_merged[all_merged['User']==1].sample(frac=0.7, random_state=42)['sample']\n",
    "user_test_set = all_merged[(all_merged['User']==1) & ~all_merged['sample'].isin (sample_ids)]"
   ]
  },
  {
   "cell_type": "markdown",
   "id": "114c383d",
   "metadata": {},
   "source": [
    "## Create the training and testing sets for all other users"
   ]
  },
  {
   "cell_type": "code",
   "execution_count": 4,
   "id": "1b9a5b78",
   "metadata": {},
   "outputs": [],
   "source": [
    "all_train_set  = pd.DataFrame()\n",
    "all_test_set = pd.DataFrame()\n",
    "user_id = 1\n",
    "for i in range (1,117):\n",
    "    if i != user_id:\n",
    "        train_set = all_merged[all_merged['User']==i].sample(frac=0.7, random_state=42)\n",
    "        sample_ids = all_merged[all_merged['User']==i].sample(frac=0.7, random_state=42)['sample']\n",
    "        test_set = all_merged[(all_merged['User']==i) & ~all_merged['sample'].isin (sample_ids) ]\n",
    "    \n",
    "        all_train_set = all_train_set.append(train_set,ignore_index=True)\n",
    "        all_test_set = all_test_set.append(test_set, ignore_index=True)"
   ]
  },
  {
   "cell_type": "markdown",
   "id": "93ad9664",
   "metadata": {},
   "source": [
    "# Add a new column by labelling the User data as 1 and all others data as 0"
   ]
  },
  {
   "cell_type": "code",
   "execution_count": 5,
   "id": "c064621c",
   "metadata": {},
   "outputs": [
    {
     "name": "stderr",
     "output_type": "stream",
     "text": [
      "C:\\Users\\s3929438\\AppData\\Local\\Temp/ipykernel_10628/4033866476.py:3: SettingWithCopyWarning: \n",
      "A value is trying to be set on a copy of a slice from a DataFrame.\n",
      "Try using .loc[row_indexer,col_indexer] = value instead\n",
      "\n",
      "See the caveats in the documentation: https://pandas.pydata.org/pandas-docs/stable/user_guide/indexing.html#returning-a-view-versus-a-copy\n",
      "  user_test_set['User_type']=1\n"
     ]
    }
   ],
   "source": [
    "user_train_set['User_type']=1\n",
    "all_train_set['User_type']=0\n",
    "user_test_set['User_type']=1\n",
    "all_test_set['User_type']=0"
   ]
  },
  {
   "cell_type": "markdown",
   "id": "922b7367",
   "metadata": {},
   "source": [
    "# Combine all users and build the final datasets"
   ]
  },
  {
   "cell_type": "code",
   "execution_count": 6,
   "id": "c46d207b",
   "metadata": {},
   "outputs": [],
   "source": [
    "final_train_set = user_train_set.append(all_train_set)\n",
    "final_test_set = user_test_set.append(all_test_set)"
   ]
  },
  {
   "cell_type": "markdown",
   "id": "968eed86",
   "metadata": {},
   "source": [
    "# Define the x_train, x_test, y_train and y_test"
   ]
  },
  {
   "cell_type": "code",
   "execution_count": 7,
   "id": "1038ae2a",
   "metadata": {},
   "outputs": [],
   "source": [
    "X_train = pd.DataFrame(final_train_set.iloc[:,3:92])\n",
    "y_train =final_train_set.iloc[:,92]\n",
    "X_test = pd.DataFrame(final_test_set.iloc[:,3:92])\n",
    "y_test = final_test_set.iloc[:,92]"
   ]
  },
  {
   "cell_type": "code",
   "execution_count": 8,
   "id": "c3d8669d",
   "metadata": {},
   "outputs": [],
   "source": [
    "feature_names = X_train.columns"
   ]
  },
  {
   "cell_type": "markdown",
   "id": "e28f1f4a",
   "metadata": {},
   "source": [
    "# Oversample the training set"
   ]
  },
  {
   "cell_type": "code",
   "execution_count": 9,
   "id": "12ce750d",
   "metadata": {},
   "outputs": [],
   "source": [
    "sm = SMOTE()\n",
    "x_train_res, y_train_res = sm.fit_resample(X_train, y_train)"
   ]
  },
  {
   "cell_type": "markdown",
   "id": "07d1e448",
   "metadata": {},
   "source": [
    "# Normalised x_train and x_test"
   ]
  },
  {
   "cell_type": "code",
   "execution_count": 10,
   "id": "0b2ec855",
   "metadata": {},
   "outputs": [],
   "source": [
    "scaled_data = MinMaxScaler()\n",
    "scaled_train = pd.DataFrame(scaled_data.fit_transform(x_train_res), columns=feature_names)\n",
    "scaled_test = pd.DataFrame(scaled_data.transform(X_test), columns=feature_names)"
   ]
  },
  {
   "cell_type": "code",
   "execution_count": null,
   "id": "402610b4",
   "metadata": {},
   "outputs": [],
   "source": [
    "# def KeystrokeModel():\n",
    "\n",
    "#     model = tf.keras.Sequential([\n",
    "           \n",
    "#             tfl.ZeroPadding2D(padding=(0,0) , input_shape = (8850, 89,1), data_format=\"channels_last\"),\n",
    "#             tfl.Conv2D(32, (100,89), strides = (90,1)),\n",
    "#             tfl.BatchNormalization(axis= 3),\n",
    "#             tfl.ReLU(max_value=None, negative_slope=0.0, threshold=0.0),\n",
    "# #             tfl.MaxPool2D(pool_size=(5, 89),strides=None,data_format=None),\n",
    "# #             tfl.Conv2D(16, (5,5), strides = (4,4)),\n",
    "# #             tfl.BatchNormalization(axis= 3),\n",
    "# #             tfl.ReLU(max_value=None, negative_slope=0.0, threshold=0.0),\n",
    "# #             tfl.MaxPool2D(pool_size=(2, 2),strides=None,data_format=None),\n",
    "#             tfl.Flatten(),\n",
    "#             tfl.Dense(3136,activation='relu'),\n",
    "#             tfl.Dense(1,activation='sigmoid')\n",
    "#         ])\n",
    "    \n",
    "#     return model"
   ]
  },
  {
   "cell_type": "code",
   "execution_count": null,
   "id": "24f148fb",
   "metadata": {},
   "outputs": [],
   "source": [
    "# model = KeystrokeModel()\n",
    "# model.compile(optimizer='adam',\n",
    "#                    loss='binary_crossentropy',\n",
    "#                    metrics=['accuracy'])"
   ]
  },
  {
   "cell_type": "code",
   "execution_count": null,
   "id": "c693d93f",
   "metadata": {},
   "outputs": [],
   "source": []
  },
  {
   "cell_type": "code",
   "execution_count": null,
   "id": "b90a9030",
   "metadata": {},
   "outputs": [],
   "source": []
  },
  {
   "cell_type": "markdown",
   "id": "8d755652",
   "metadata": {},
   "source": [
    "# Apply general deep learning model\n",
    "\n",
    "### This model working fine. But the results we achived are very low. "
   ]
  },
  {
   "cell_type": "code",
   "execution_count": 15,
   "id": "df4571ce",
   "metadata": {},
   "outputs": [
    {
     "name": "stdout",
     "output_type": "stream",
     "text": [
      "Model: \"sequential_2\"\n",
      "_________________________________________________________________\n",
      " Layer (type)                Output Shape              Param #   \n",
      "=================================================================\n",
      " dense_5 (Dense)             (None, 16)                1440      \n",
      "                                                                 \n",
      " dense_6 (Dense)             (None, 32)                544       \n",
      "                                                                 \n",
      " dense_7 (Dense)             (None, 1)                 33        \n",
      "                                                                 \n",
      "=================================================================\n",
      "Total params: 2,017\n",
      "Trainable params: 2,017\n",
      "Non-trainable params: 0\n",
      "_________________________________________________________________\n"
     ]
    }
   ],
   "source": [
    "X = scaled_train.values\n",
    "Y = (pd.DataFrame(y_train_res).values)\n",
    "model = Sequential()\n",
    "model.add(tfl.Dense(16, input_shape=(X.shape[1],), activation='relu')) # Add an input shape! (features,)\n",
    "model.add(tfl.Dense(32, activation='relu'))\n",
    "model.add(tfl.Dense(1, activation='sigmoid'))\n",
    "model.summary() \n",
    "model.compile(optimizer='adam', loss='binary_crossentropy',metrics=['accuracy', Precision() ,Recall()])"
   ]
  },
  {
   "cell_type": "code",
   "execution_count": 16,
   "id": "09630297",
   "metadata": {},
   "outputs": [
    {
     "name": "stdout",
     "output_type": "stream",
     "text": [
      "Epoch 1/80\n",
      "885/885 [==============================] - 6s 4ms/step - loss: 0.2528 - accuracy: 0.9208 - precision_1: 0.8985 - recall_1: 0.9487\n",
      "Epoch 2/80\n",
      "885/885 [==============================] - 3s 4ms/step - loss: 0.1012 - accuracy: 0.9702 - precision_1: 0.9441 - recall_1: 0.9995\n",
      "Epoch 3/80\n",
      "885/885 [==============================] - 3s 4ms/step - loss: 0.0752 - accuracy: 0.9771 - precision_1: 0.9561 - recall_1: 1.0000\n",
      "Epoch 4/80\n",
      "885/885 [==============================] - 3s 4ms/step - loss: 0.0561 - accuracy: 0.9841 - precision_1: 0.9699 - recall_1: 0.9991\n",
      "Epoch 5/80\n",
      "885/885 [==============================] - 3s 4ms/step - loss: 0.0434 - accuracy: 0.9879 - precision_1: 0.9764 - recall_1: 1.0000\n",
      "Epoch 6/80\n",
      "885/885 [==============================] - 4s 4ms/step - loss: 0.0355 - accuracy: 0.9905 - precision_1: 0.9820 - recall_1: 0.9993\n",
      "Epoch 7/80\n",
      "885/885 [==============================] - 3s 4ms/step - loss: 0.0291 - accuracy: 0.9919 - precision_1: 0.9842 - recall_1: 0.9998\n",
      "Epoch 8/80\n",
      "885/885 [==============================] - 3s 4ms/step - loss: 0.0251 - accuracy: 0.9927 - precision_1: 0.9862 - recall_1: 0.9993\n",
      "Epoch 9/80\n",
      "885/885 [==============================] - 3s 4ms/step - loss: 0.0182 - accuracy: 0.9955 - precision_1: 0.9910 - recall_1: 1.0000\n",
      "Epoch 10/80\n",
      "885/885 [==============================] - 3s 4ms/step - loss: 0.0163 - accuracy: 0.9956 - precision_1: 0.9921 - recall_1: 0.9991\n",
      "Epoch 11/80\n",
      "885/885 [==============================] - 3s 4ms/step - loss: 0.0110 - accuracy: 0.9969 - precision_1: 0.9942 - recall_1: 0.9998\n",
      "Epoch 12/80\n",
      "885/885 [==============================] - 3s 4ms/step - loss: 0.0111 - accuracy: 0.9976 - precision_1: 0.9953 - recall_1: 1.0000\n",
      "Epoch 13/80\n",
      "885/885 [==============================] - 3s 4ms/step - loss: 0.0085 - accuracy: 0.9977 - precision_1: 0.9959 - recall_1: 0.9995\n",
      "Epoch 14/80\n",
      "885/885 [==============================] - 4s 4ms/step - loss: 0.0073 - accuracy: 0.9976 - precision_1: 0.9955 - recall_1: 0.9998\n",
      "Epoch 15/80\n",
      "885/885 [==============================] - 4s 4ms/step - loss: 0.0061 - accuracy: 0.9985 - precision_1: 0.9971 - recall_1: 1.0000\n",
      "Epoch 16/80\n",
      "885/885 [==============================] - 3s 4ms/step - loss: 0.0048 - accuracy: 0.9985 - precision_1: 0.9973 - recall_1: 0.9998\n",
      "Epoch 17/80\n",
      "885/885 [==============================] - 3s 4ms/step - loss: 0.0032 - accuracy: 0.9992 - precision_1: 0.9986 - recall_1: 0.9998\n",
      "Epoch 18/80\n",
      "885/885 [==============================] - 3s 4ms/step - loss: 0.0032 - accuracy: 0.9993 - precision_1: 0.9989 - recall_1: 0.9998\n",
      "Epoch 19/80\n",
      "885/885 [==============================] - 3s 4ms/step - loss: 0.0011 - accuracy: 0.9999 - precision_1: 0.9998 - recall_1: 1.0000\n",
      "Epoch 20/80\n",
      "885/885 [==============================] - 4s 4ms/step - loss: 0.0094 - accuracy: 0.9974 - precision_1: 0.9962 - recall_1: 0.9986\n",
      "Epoch 21/80\n",
      "885/885 [==============================] - 3s 4ms/step - loss: 0.0029 - accuracy: 0.9993 - precision_1: 0.9989 - recall_1: 0.9998\n",
      "Epoch 22/80\n",
      "885/885 [==============================] - 3s 4ms/step - loss: 0.0033 - accuracy: 0.9986 - precision_1: 0.9980 - recall_1: 0.9993\n",
      "Epoch 23/80\n",
      "885/885 [==============================] - 3s 4ms/step - loss: 0.0036 - accuracy: 0.9991 - precision_1: 0.9986 - recall_1: 0.9995\n",
      "Epoch 24/80\n",
      "885/885 [==============================] - 3s 4ms/step - loss: 3.9943e-04 - accuracy: 1.0000 - precision_1: 1.0000 - recall_1: 1.0000\n",
      "Epoch 25/80\n",
      "885/885 [==============================] - 3s 4ms/step - loss: 0.0147 - accuracy: 0.9962 - precision_1: 0.9948 - recall_1: 0.9975\n",
      "Epoch 26/80\n",
      "885/885 [==============================] - 3s 4ms/step - loss: 0.0013 - accuracy: 0.9997 - precision_1: 0.9993 - recall_1: 1.0000\n",
      "Epoch 27/80\n",
      "885/885 [==============================] - 3s 4ms/step - loss: 0.0029 - accuracy: 0.9993 - precision_1: 0.9989 - recall_1: 0.9998\n",
      "Epoch 28/80\n",
      "885/885 [==============================] - 3s 4ms/step - loss: 0.0092 - accuracy: 0.9977 - precision_1: 0.9959 - recall_1: 0.9995\n",
      "Epoch 29/80\n",
      "885/885 [==============================] - 4s 4ms/step - loss: 8.1778e-04 - accuracy: 0.9998 - precision_1: 0.9995 - recall_1: 1.0000\n",
      "Epoch 30/80\n",
      "885/885 [==============================] - 3s 4ms/step - loss: 3.2659e-04 - accuracy: 1.0000 - precision_1: 1.0000 - recall_1: 1.0000\n",
      "Epoch 31/80\n",
      "885/885 [==============================] - 3s 4ms/step - loss: 1.8731e-04 - accuracy: 1.0000 - precision_1: 1.0000 - recall_1: 1.0000\n",
      "Epoch 32/80\n",
      "885/885 [==============================] - 3s 4ms/step - loss: 1.3279e-04 - accuracy: 1.0000 - precision_1: 1.0000 - recall_1: 1.0000\n",
      "Epoch 33/80\n",
      "885/885 [==============================] - 3s 4ms/step - loss: 0.0131 - accuracy: 0.9969 - precision_1: 0.9959 - recall_1: 0.9980\n",
      "Epoch 34/80\n",
      "885/885 [==============================] - 3s 4ms/step - loss: 0.0018 - accuracy: 0.9998 - precision_1: 0.9995 - recall_1: 1.0000\n",
      "Epoch 35/80\n",
      "885/885 [==============================] - 3s 4ms/step - loss: 1.8278e-04 - accuracy: 1.0000 - precision_1: 1.0000 - recall_1: 1.0000\n",
      "Epoch 36/80\n",
      "885/885 [==============================] - 4s 4ms/step - loss: 1.6422e-04 - accuracy: 1.0000 - precision_1: 1.0000 - recall_1: 1.0000\n",
      "Epoch 37/80\n",
      "885/885 [==============================] - 3s 4ms/step - loss: 0.0116 - accuracy: 0.9971 - precision_1: 0.9959 - recall_1: 0.9982\n",
      "Epoch 38/80\n",
      "885/885 [==============================] - 4s 4ms/step - loss: 6.7435e-04 - accuracy: 1.0000 - precision_1: 1.0000 - recall_1: 1.0000\n",
      "Epoch 39/80\n",
      "885/885 [==============================] - 4s 4ms/step - loss: 1.9574e-04 - accuracy: 1.0000 - precision_1: 1.0000 - recall_1: 1.0000\n",
      "Epoch 40/80\n",
      "885/885 [==============================] - 4s 4ms/step - loss: 1.0295e-04 - accuracy: 1.0000 - precision_1: 1.0000 - recall_1: 1.0000\n",
      "Epoch 41/80\n",
      "885/885 [==============================] - 3s 4ms/step - loss: 8.1175e-05 - accuracy: 1.0000 - precision_1: 1.0000 - recall_1: 1.0000\n",
      "Epoch 42/80\n",
      "885/885 [==============================] - 4s 4ms/step - loss: 0.0095 - accuracy: 0.9973 - precision_1: 0.9962 - recall_1: 0.9984\n",
      "Epoch 43/80\n",
      "885/885 [==============================] - 4s 4ms/step - loss: 2.9540e-04 - accuracy: 1.0000 - precision_1: 1.0000 - recall_1: 1.0000\n",
      "Epoch 44/80\n",
      "885/885 [==============================] - 3s 4ms/step - loss: 1.6047e-04 - accuracy: 1.0000 - precision_1: 1.0000 - recall_1: 1.0000\n",
      "Epoch 45/80\n",
      "885/885 [==============================] - 3s 4ms/step - loss: 7.6113e-05 - accuracy: 1.0000 - precision_1: 1.0000 - recall_1: 1.0000\n",
      "Epoch 46/80\n",
      "885/885 [==============================] - 3s 4ms/step - loss: 0.0094 - accuracy: 0.9980 - precision_1: 0.9971 - recall_1: 0.9989\n",
      "Epoch 47/80\n",
      "885/885 [==============================] - 3s 4ms/step - loss: 0.0010 - accuracy: 0.9997 - precision_1: 0.9993 - recall_1: 1.0000\n",
      "Epoch 48/80\n",
      "885/885 [==============================] - 3s 4ms/step - loss: 1.0971e-04 - accuracy: 1.0000 - precision_1: 1.0000 - recall_1: 1.0000\n",
      "Epoch 49/80\n",
      "885/885 [==============================] - 4s 4ms/step - loss: 5.6054e-05 - accuracy: 1.0000 - precision_1: 1.0000 - recall_1: 1.0000\n",
      "Epoch 50/80\n",
      "885/885 [==============================] - 4s 4ms/step - loss: 0.0067 - accuracy: 0.9984 - precision_1: 0.9975 - recall_1: 0.9993\n",
      "Epoch 51/80\n",
      "885/885 [==============================] - 3s 4ms/step - loss: 9.0392e-04 - accuracy: 0.9998 - precision_1: 0.9995 - recall_1: 1.0000\n",
      "Epoch 52/80\n",
      "885/885 [==============================] - 3s 4ms/step - loss: 6.6020e-05 - accuracy: 1.0000 - precision_1: 1.0000 - recall_1: 1.0000\n",
      "Epoch 53/80\n",
      "885/885 [==============================] - 3s 4ms/step - loss: 3.9369e-05 - accuracy: 1.0000 - precision_1: 1.0000 - recall_1: 1.0000\n",
      "Epoch 54/80\n",
      "885/885 [==============================] - 3s 4ms/step - loss: 3.1951e-05 - accuracy: 1.0000 - precision_1: 1.0000 - recall_1: 1.0000\n",
      "Epoch 55/80\n",
      "885/885 [==============================] - 3s 4ms/step - loss: 2.6622e-05 - accuracy: 1.0000 - precision_1: 1.0000 - recall_1: 1.0000\n",
      "Epoch 56/80\n",
      "885/885 [==============================] - 3s 4ms/step - loss: 2.8034e-05 - accuracy: 1.0000 - precision_1: 1.0000 - recall_1: 1.0000\n",
      "Epoch 57/80\n",
      "885/885 [==============================] - 3s 4ms/step - loss: 2.3843e-05 - accuracy: 1.0000 - precision_1: 1.0000 - recall_1: 1.0000\n",
      "Epoch 58/80\n",
      "885/885 [==============================] - 3s 4ms/step - loss: 0.0117 - accuracy: 0.9977 - precision_1: 0.9968 - recall_1: 0.9986\n",
      "Epoch 59/80\n",
      "885/885 [==============================] - 3s 4ms/step - loss: 0.0043 - accuracy: 0.9984 - precision_1: 0.9977 - recall_1: 0.9991\n",
      "Epoch 60/80\n",
      "885/885 [==============================] - 4s 4ms/step - loss: 3.3748e-04 - accuracy: 1.0000 - precision_1: 1.0000 - recall_1: 1.0000\n",
      "Epoch 61/80\n",
      "885/885 [==============================] - 3s 4ms/step - loss: 5.2033e-05 - accuracy: 1.0000 - precision_1: 1.0000 - recall_1: 1.0000\n",
      "Epoch 62/80\n",
      "885/885 [==============================] - 3s 4ms/step - loss: 3.5856e-05 - accuracy: 1.0000 - precision_1: 1.0000 - recall_1: 1.0000\n",
      "Epoch 63/80\n",
      "885/885 [==============================] - 3s 4ms/step - loss: 2.9634e-05 - accuracy: 1.0000 - precision_1: 1.0000 - recall_1: 1.0000\n",
      "Epoch 64/80\n",
      "885/885 [==============================] - 4s 4ms/step - loss: 2.1317e-05 - accuracy: 1.0000 - precision_1: 1.0000 - recall_1: 1.0000\n",
      "Epoch 65/80\n",
      "885/885 [==============================] - 4s 4ms/step - loss: 1.8391e-05 - accuracy: 1.0000 - precision_1: 1.0000 - recall_1: 1.0000\n",
      "Epoch 66/80\n",
      "885/885 [==============================] - 4s 4ms/step - loss: 0.0082 - accuracy: 0.9982 - precision_1: 0.9977 - recall_1: 0.9986\n",
      "Epoch 67/80\n",
      "885/885 [==============================] - 4s 4ms/step - loss: 3.7220e-04 - accuracy: 0.9999 - precision_1: 0.9998 - recall_1: 1.0000\n",
      "Epoch 68/80\n",
      "885/885 [==============================] - 4s 4ms/step - loss: 3.2037e-05 - accuracy: 1.0000 - precision_1: 1.0000 - recall_1: 1.0000\n",
      "Epoch 69/80\n",
      "885/885 [==============================] - 3s 4ms/step - loss: 2.4269e-05 - accuracy: 1.0000 - precision_1: 1.0000 - recall_1: 1.0000\n",
      "Epoch 70/80\n",
      "885/885 [==============================] - 3s 4ms/step - loss: 1.9945e-05 - accuracy: 1.0000 - precision_1: 1.0000 - recall_1: 1.0000\n",
      "Epoch 71/80\n",
      "885/885 [==============================] - 3s 4ms/step - loss: 1.8290e-05 - accuracy: 1.0000 - precision_1: 1.0000 - recall_1: 1.0000\n",
      "Epoch 72/80\n",
      "885/885 [==============================] - 3s 4ms/step - loss: 1.7098e-05 - accuracy: 1.0000 - precision_1: 1.0000 - recall_1: 1.0000\n",
      "Epoch 73/80\n",
      "885/885 [==============================] - 4s 4ms/step - loss: 1.3055e-05 - accuracy: 1.0000 - precision_1: 1.0000 - recall_1: 1.0000\n",
      "Epoch 74/80\n",
      "885/885 [==============================] - 4s 4ms/step - loss: 0.0182 - accuracy: 0.9974 - precision_1: 0.9966 - recall_1: 0.9982\n",
      "Epoch 75/80\n",
      "885/885 [==============================] - 4s 4ms/step - loss: 0.0020 - accuracy: 0.9992 - precision_1: 0.9986 - recall_1: 0.9998\n",
      "Epoch 76/80\n",
      "885/885 [==============================] - 4s 4ms/step - loss: 2.4191e-04 - accuracy: 1.0000 - precision_1: 1.0000 - recall_1: 1.0000\n",
      "Epoch 77/80\n",
      "885/885 [==============================] - 4s 4ms/step - loss: 1.0860e-04 - accuracy: 1.0000 - precision_1: 1.0000 - recall_1: 1.0000\n",
      "Epoch 78/80\n",
      "885/885 [==============================] - 4s 4ms/step - loss: 4.3929e-05 - accuracy: 1.0000 - precision_1: 1.0000 - recall_1: 1.0000\n",
      "Epoch 79/80\n",
      "885/885 [==============================] - 4s 4ms/step - loss: 3.0550e-05 - accuracy: 1.0000 - precision_1: 1.0000 - recall_1: 1.0000\n",
      "Epoch 80/80\n",
      "885/885 [==============================] - 4s 4ms/step - loss: 1.9426e-05 - accuracy: 1.0000 - precision_1: 1.0000 - recall_1: 1.0000\n"
     ]
    },
    {
     "data": {
      "text/plain": [
       "<keras.callbacks.History at 0x251dceff100>"
      ]
     },
     "execution_count": 16,
     "metadata": {},
     "output_type": "execute_result"
    }
   ],
   "source": [
    "model.fit(X,Y,epochs=80, \n",
    "                    batch_size=10,\n",
    "                    shuffle=True,\n",
    "                    verbose=1)"
   ]
  },
  {
   "cell_type": "code",
   "execution_count": 17,
   "id": "3246528a",
   "metadata": {},
   "outputs": [
    {
     "name": "stdout",
     "output_type": "stream",
     "text": [
      "60/60 [==============================] - 1s 4ms/step - loss: 0.0816 - accuracy: 0.9891 - precision_1: 0.2857 - recall_1: 0.2667\n"
     ]
    },
    {
     "data": {
      "text/plain": [
       "[0.08161916583776474,\n",
       " 0.9890568256378174,\n",
       " 0.2857142984867096,\n",
       " 0.2666666805744171]"
      ]
     },
     "execution_count": 17,
     "metadata": {},
     "output_type": "execute_result"
    }
   ],
   "source": [
    "model.evaluate(scaled_test, y_test)"
   ]
  },
  {
   "cell_type": "code",
   "execution_count": null,
   "id": "e90bd369",
   "metadata": {},
   "outputs": [],
   "source": []
  },
  {
   "cell_type": "markdown",
   "id": "a84dded0",
   "metadata": {},
   "source": [
    "# Applying CNN model "
   ]
  },
  {
   "cell_type": "code",
   "execution_count": 1,
   "id": "486dc2a5",
   "metadata": {},
   "outputs": [
    {
     "ename": "NameError",
     "evalue": "name 'scaled_train' is not defined",
     "output_type": "error",
     "traceback": [
      "\u001b[1;31m---------------------------------------------------------------------------\u001b[0m",
      "\u001b[1;31mNameError\u001b[0m                                 Traceback (most recent call last)",
      "\u001b[1;32m~\\AppData\\Local\\Temp/ipykernel_10908/3654017456.py\u001b[0m in \u001b[0;36m<module>\u001b[1;34m\u001b[0m\n\u001b[0;32m      1\u001b[0m \u001b[1;31m# The x_train and y_train are reshape to input to the CNN model\u001b[0m\u001b[1;33m\u001b[0m\u001b[1;33m\u001b[0m\u001b[0m\n\u001b[0;32m      2\u001b[0m \u001b[1;33m\u001b[0m\u001b[0m\n\u001b[1;32m----> 3\u001b[1;33m \u001b[0mX_tr\u001b[0m \u001b[1;33m=\u001b[0m \u001b[1;33m(\u001b[0m\u001b[0mscaled_train\u001b[0m\u001b[1;33m.\u001b[0m\u001b[0mvalues\u001b[0m\u001b[1;33m)\u001b[0m\u001b[1;33m.\u001b[0m\u001b[0mreshape\u001b[0m\u001b[1;33m(\u001b[0m\u001b[1;36m8850\u001b[0m\u001b[1;33m,\u001b[0m\u001b[1;36m89\u001b[0m\u001b[1;33m,\u001b[0m\u001b[1;36m1\u001b[0m\u001b[1;33m,\u001b[0m\u001b[1;33m-\u001b[0m\u001b[1;36m1\u001b[0m\u001b[1;33m)\u001b[0m\u001b[1;33m\u001b[0m\u001b[1;33m\u001b[0m\u001b[0m\n\u001b[0m\u001b[0;32m      4\u001b[0m \u001b[0mY_tr\u001b[0m \u001b[1;33m=\u001b[0m \u001b[1;33m(\u001b[0m\u001b[0mpd\u001b[0m\u001b[1;33m.\u001b[0m\u001b[0mDataFrame\u001b[0m\u001b[1;33m(\u001b[0m\u001b[0my_train_res\u001b[0m\u001b[1;33m)\u001b[0m\u001b[1;33m.\u001b[0m\u001b[0mvalues\u001b[0m\u001b[1;33m)\u001b[0m\u001b[1;33m.\u001b[0m\u001b[0mreshape\u001b[0m\u001b[1;33m(\u001b[0m\u001b[1;36m8850\u001b[0m\u001b[1;33m,\u001b[0m\u001b[1;36m1\u001b[0m\u001b[1;33m,\u001b[0m\u001b[1;33m-\u001b[0m\u001b[1;36m1\u001b[0m\u001b[1;33m)\u001b[0m\u001b[1;33m\u001b[0m\u001b[1;33m\u001b[0m\u001b[0m\n",
      "\u001b[1;31mNameError\u001b[0m: name 'scaled_train' is not defined"
     ]
    }
   ],
   "source": [
    "# The x_train and y_train are reshape to input to the CNN model\n",
    "\n",
    "X_tr = (scaled_train.values).reshape(8850,89,1,-1)\n",
    "Y_tr = (pd.DataFrame(y_train_res).values).reshape(8850,1,-1)"
   ]
  },
  {
   "cell_type": "code",
   "execution_count": 12,
   "id": "aec62661",
   "metadata": {},
   "outputs": [
    {
     "name": "stdout",
     "output_type": "stream",
     "text": [
      "Model: \"sequential_1\"\n",
      "_________________________________________________________________\n",
      " Layer (type)                Output Shape              Param #   \n",
      "=================================================================\n",
      " conv2d (Conv2D)             (None, 8801, 1, 32)       142432    \n",
      "                                                                 \n",
      " flatten (Flatten)           (None, 281632)            0         \n",
      "                                                                 \n",
      " dense_3 (Dense)             (None, 64)                18024512  \n",
      "                                                                 \n",
      " dense_4 (Dense)             (None, 1)                 65        \n",
      "                                                                 \n",
      "=================================================================\n",
      "Total params: 18,167,009\n",
      "Trainable params: 18,167,009\n",
      "Non-trainable params: 0\n",
      "_________________________________________________________________\n"
     ]
    }
   ],
   "source": [
    "model = Sequential()\n",
    "model.add(tfl.Conv2D(32, input_shape = (8850, 89,1), kernel_size=(50,89)))\n",
    "# model.add(tfl.Conv2D(64, kernel_size=(5,5), activation='relu'))\n",
    "model.add(tfl.Flatten())\n",
    "model.add((tfl.Dense(64, activation='relu')))\n",
    "model.add(tfl.Dense(1, activation='sigmoid'))\n",
    "model.summary()\n",
    "model.compile(optimizer='adam', loss='binary_crossentropy',metrics=['accuracy'])"
   ]
  },
  {
   "cell_type": "code",
   "execution_count": null,
   "id": "c1683f3c",
   "metadata": {},
   "outputs": [],
   "source": []
  },
  {
   "cell_type": "code",
   "execution_count": 21,
   "id": "ed8cfc39",
   "metadata": {},
   "outputs": [
    {
     "name": "stdout",
     "output_type": "stream",
     "text": [
      "Epoch 1/80\n"
     ]
    },
    {
     "ename": "InvalidArgumentError",
     "evalue": "Graph execution error:\n\nDetected at node 'sequential_2/dense_5/Relu' defined at (most recent call last):\n    File \"C:\\Users\\s3929438\\Anaconda3\\lib\\runpy.py\", line 197, in _run_module_as_main\n      return _run_code(code, main_globals, None,\n    File \"C:\\Users\\s3929438\\Anaconda3\\lib\\runpy.py\", line 87, in _run_code\n      exec(code, run_globals)\n    File \"C:\\Users\\s3929438\\Anaconda3\\lib\\site-packages\\ipykernel_launcher.py\", line 16, in <module>\n      app.launch_new_instance()\n    File \"C:\\Users\\s3929438\\Anaconda3\\lib\\site-packages\\traitlets\\config\\application.py\", line 846, in launch_instance\n      app.start()\n    File \"C:\\Users\\s3929438\\Anaconda3\\lib\\site-packages\\ipykernel\\kernelapp.py\", line 677, in start\n      self.io_loop.start()\n    File \"C:\\Users\\s3929438\\Anaconda3\\lib\\site-packages\\tornado\\platform\\asyncio.py\", line 199, in start\n      self.asyncio_loop.run_forever()\n    File \"C:\\Users\\s3929438\\Anaconda3\\lib\\asyncio\\base_events.py\", line 596, in run_forever\n      self._run_once()\n    File \"C:\\Users\\s3929438\\Anaconda3\\lib\\asyncio\\base_events.py\", line 1890, in _run_once\n      handle._run()\n    File \"C:\\Users\\s3929438\\Anaconda3\\lib\\asyncio\\events.py\", line 80, in _run\n      self._context.run(self._callback, *self._args)\n    File \"C:\\Users\\s3929438\\Anaconda3\\lib\\site-packages\\ipykernel\\kernelbase.py\", line 457, in dispatch_queue\n      await self.process_one()\n    File \"C:\\Users\\s3929438\\Anaconda3\\lib\\site-packages\\ipykernel\\kernelbase.py\", line 446, in process_one\n      await dispatch(*args)\n    File \"C:\\Users\\s3929438\\Anaconda3\\lib\\site-packages\\ipykernel\\kernelbase.py\", line 353, in dispatch_shell\n      await result\n    File \"C:\\Users\\s3929438\\Anaconda3\\lib\\site-packages\\ipykernel\\kernelbase.py\", line 648, in execute_request\n      reply_content = await reply_content\n    File \"C:\\Users\\s3929438\\Anaconda3\\lib\\site-packages\\ipykernel\\ipkernel.py\", line 353, in do_execute\n      res = shell.run_cell(code, store_history=store_history, silent=silent)\n    File \"C:\\Users\\s3929438\\Anaconda3\\lib\\site-packages\\ipykernel\\zmqshell.py\", line 533, in run_cell\n      return super(ZMQInteractiveShell, self).run_cell(*args, **kwargs)\n    File \"C:\\Users\\s3929438\\Anaconda3\\lib\\site-packages\\IPython\\core\\interactiveshell.py\", line 2901, in run_cell\n      result = self._run_cell(\n    File \"C:\\Users\\s3929438\\Anaconda3\\lib\\site-packages\\IPython\\core\\interactiveshell.py\", line 2947, in _run_cell\n      return runner(coro)\n    File \"C:\\Users\\s3929438\\Anaconda3\\lib\\site-packages\\IPython\\core\\async_helpers.py\", line 68, in _pseudo_sync_runner\n      coro.send(None)\n    File \"C:\\Users\\s3929438\\Anaconda3\\lib\\site-packages\\IPython\\core\\interactiveshell.py\", line 3172, in run_cell_async\n      has_raised = await self.run_ast_nodes(code_ast.body, cell_name,\n    File \"C:\\Users\\s3929438\\Anaconda3\\lib\\site-packages\\IPython\\core\\interactiveshell.py\", line 3364, in run_ast_nodes\n      if (await self.run_code(code, result,  async_=asy)):\n    File \"C:\\Users\\s3929438\\Anaconda3\\lib\\site-packages\\IPython\\core\\interactiveshell.py\", line 3444, in run_code\n      exec(code_obj, self.user_global_ns, self.user_ns)\n    File \"C:\\Users\\s3929438\\AppData\\Local\\Temp/ipykernel_10628/2011985988.py\", line 1, in <module>\n      model.fit(X_tr,Y_tr,epochs=80)\n    File \"C:\\Users\\s3929438\\Anaconda3\\lib\\site-packages\\keras\\utils\\traceback_utils.py\", line 65, in error_handler\n      return fn(*args, **kwargs)\n    File \"C:\\Users\\s3929438\\Anaconda3\\lib\\site-packages\\keras\\engine\\training.py\", line 1650, in fit\n      tmp_logs = self.train_function(iterator)\n    File \"C:\\Users\\s3929438\\Anaconda3\\lib\\site-packages\\keras\\engine\\training.py\", line 1249, in train_function\n      return step_function(self, iterator)\n    File \"C:\\Users\\s3929438\\Anaconda3\\lib\\site-packages\\keras\\engine\\training.py\", line 1233, in step_function\n      outputs = model.distribute_strategy.run(run_step, args=(data,))\n    File \"C:\\Users\\s3929438\\Anaconda3\\lib\\site-packages\\keras\\engine\\training.py\", line 1222, in run_step\n      outputs = model.train_step(data)\n    File \"C:\\Users\\s3929438\\Anaconda3\\lib\\site-packages\\keras\\engine\\training.py\", line 1023, in train_step\n      y_pred = self(x, training=True)\n    File \"C:\\Users\\s3929438\\Anaconda3\\lib\\site-packages\\keras\\utils\\traceback_utils.py\", line 65, in error_handler\n      return fn(*args, **kwargs)\n    File \"C:\\Users\\s3929438\\Anaconda3\\lib\\site-packages\\keras\\engine\\training.py\", line 561, in __call__\n      return super().__call__(*args, **kwargs)\n    File \"C:\\Users\\s3929438\\Anaconda3\\lib\\site-packages\\keras\\utils\\traceback_utils.py\", line 65, in error_handler\n      return fn(*args, **kwargs)\n    File \"C:\\Users\\s3929438\\Anaconda3\\lib\\site-packages\\keras\\engine\\base_layer.py\", line 1132, in __call__\n      outputs = call_fn(inputs, *args, **kwargs)\n    File \"C:\\Users\\s3929438\\Anaconda3\\lib\\site-packages\\keras\\utils\\traceback_utils.py\", line 96, in error_handler\n      return fn(*args, **kwargs)\n    File \"C:\\Users\\s3929438\\Anaconda3\\lib\\site-packages\\keras\\engine\\sequential.py\", line 413, in call\n      return super().call(inputs, training=training, mask=mask)\n    File \"C:\\Users\\s3929438\\Anaconda3\\lib\\site-packages\\keras\\engine\\functional.py\", line 511, in call\n      return self._run_internal_graph(inputs, training=training, mask=mask)\n    File \"C:\\Users\\s3929438\\Anaconda3\\lib\\site-packages\\keras\\engine\\functional.py\", line 668, in _run_internal_graph\n      outputs = node.layer(*args, **kwargs)\n    File \"C:\\Users\\s3929438\\Anaconda3\\lib\\site-packages\\keras\\utils\\traceback_utils.py\", line 65, in error_handler\n      return fn(*args, **kwargs)\n    File \"C:\\Users\\s3929438\\Anaconda3\\lib\\site-packages\\keras\\engine\\base_layer.py\", line 1132, in __call__\n      outputs = call_fn(inputs, *args, **kwargs)\n    File \"C:\\Users\\s3929438\\Anaconda3\\lib\\site-packages\\keras\\utils\\traceback_utils.py\", line 96, in error_handler\n      return fn(*args, **kwargs)\n    File \"C:\\Users\\s3929438\\Anaconda3\\lib\\site-packages\\keras\\layers\\core\\dense.py\", line 255, in call\n      outputs = self.activation(outputs)\n    File \"C:\\Users\\s3929438\\Anaconda3\\lib\\site-packages\\keras\\activations.py\", line 317, in relu\n      return backend.relu(\n    File \"C:\\Users\\s3929438\\Anaconda3\\lib\\site-packages\\keras\\backend.py\", line 5369, in relu\n      x = tf.nn.relu(x)\nNode: 'sequential_2/dense_5/Relu'\nIn[0] and In[1] has different ndims: [32,89,1,1] vs. [89,16]\n\t [[{{node sequential_2/dense_5/Relu}}]] [Op:__inference_train_function_431052]",
     "output_type": "error",
     "traceback": [
      "\u001b[1;31m---------------------------------------------------------------------------\u001b[0m",
      "\u001b[1;31mInvalidArgumentError\u001b[0m                      Traceback (most recent call last)",
      "\u001b[1;32m~\\AppData\\Local\\Temp/ipykernel_10628/2011985988.py\u001b[0m in \u001b[0;36m<module>\u001b[1;34m\u001b[0m\n\u001b[1;32m----> 1\u001b[1;33m \u001b[0mmodel\u001b[0m\u001b[1;33m.\u001b[0m\u001b[0mfit\u001b[0m\u001b[1;33m(\u001b[0m\u001b[0mX_tr\u001b[0m\u001b[1;33m,\u001b[0m\u001b[0mY_tr\u001b[0m\u001b[1;33m,\u001b[0m\u001b[0mepochs\u001b[0m\u001b[1;33m=\u001b[0m\u001b[1;36m80\u001b[0m\u001b[1;33m)\u001b[0m\u001b[1;33m\u001b[0m\u001b[1;33m\u001b[0m\u001b[0m\n\u001b[0m",
      "\u001b[1;32m~\\Anaconda3\\lib\\site-packages\\keras\\utils\\traceback_utils.py\u001b[0m in \u001b[0;36merror_handler\u001b[1;34m(*args, **kwargs)\u001b[0m\n\u001b[0;32m     68\u001b[0m             \u001b[1;31m# To get the full stack trace, call:\u001b[0m\u001b[1;33m\u001b[0m\u001b[1;33m\u001b[0m\u001b[0m\n\u001b[0;32m     69\u001b[0m             \u001b[1;31m# `tf.debugging.disable_traceback_filtering()`\u001b[0m\u001b[1;33m\u001b[0m\u001b[1;33m\u001b[0m\u001b[0m\n\u001b[1;32m---> 70\u001b[1;33m             \u001b[1;32mraise\u001b[0m \u001b[0me\u001b[0m\u001b[1;33m.\u001b[0m\u001b[0mwith_traceback\u001b[0m\u001b[1;33m(\u001b[0m\u001b[0mfiltered_tb\u001b[0m\u001b[1;33m)\u001b[0m \u001b[1;32mfrom\u001b[0m \u001b[1;32mNone\u001b[0m\u001b[1;33m\u001b[0m\u001b[1;33m\u001b[0m\u001b[0m\n\u001b[0m\u001b[0;32m     71\u001b[0m         \u001b[1;32mfinally\u001b[0m\u001b[1;33m:\u001b[0m\u001b[1;33m\u001b[0m\u001b[1;33m\u001b[0m\u001b[0m\n\u001b[0;32m     72\u001b[0m             \u001b[1;32mdel\u001b[0m \u001b[0mfiltered_tb\u001b[0m\u001b[1;33m\u001b[0m\u001b[1;33m\u001b[0m\u001b[0m\n",
      "\u001b[1;32m~\\Anaconda3\\lib\\site-packages\\tensorflow\\python\\eager\\execute.py\u001b[0m in \u001b[0;36mquick_execute\u001b[1;34m(op_name, num_outputs, inputs, attrs, ctx, name)\u001b[0m\n\u001b[0;32m     50\u001b[0m   \u001b[1;32mtry\u001b[0m\u001b[1;33m:\u001b[0m\u001b[1;33m\u001b[0m\u001b[1;33m\u001b[0m\u001b[0m\n\u001b[0;32m     51\u001b[0m     \u001b[0mctx\u001b[0m\u001b[1;33m.\u001b[0m\u001b[0mensure_initialized\u001b[0m\u001b[1;33m(\u001b[0m\u001b[1;33m)\u001b[0m\u001b[1;33m\u001b[0m\u001b[1;33m\u001b[0m\u001b[0m\n\u001b[1;32m---> 52\u001b[1;33m     tensors = pywrap_tfe.TFE_Py_Execute(ctx._handle, device_name, op_name,\n\u001b[0m\u001b[0;32m     53\u001b[0m                                         inputs, attrs, num_outputs)\n\u001b[0;32m     54\u001b[0m   \u001b[1;32mexcept\u001b[0m \u001b[0mcore\u001b[0m\u001b[1;33m.\u001b[0m\u001b[0m_NotOkStatusException\u001b[0m \u001b[1;32mas\u001b[0m \u001b[0me\u001b[0m\u001b[1;33m:\u001b[0m\u001b[1;33m\u001b[0m\u001b[1;33m\u001b[0m\u001b[0m\n",
      "\u001b[1;31mInvalidArgumentError\u001b[0m: Graph execution error:\n\nDetected at node 'sequential_2/dense_5/Relu' defined at (most recent call last):\n    File \"C:\\Users\\s3929438\\Anaconda3\\lib\\runpy.py\", line 197, in _run_module_as_main\n      return _run_code(code, main_globals, None,\n    File \"C:\\Users\\s3929438\\Anaconda3\\lib\\runpy.py\", line 87, in _run_code\n      exec(code, run_globals)\n    File \"C:\\Users\\s3929438\\Anaconda3\\lib\\site-packages\\ipykernel_launcher.py\", line 16, in <module>\n      app.launch_new_instance()\n    File \"C:\\Users\\s3929438\\Anaconda3\\lib\\site-packages\\traitlets\\config\\application.py\", line 846, in launch_instance\n      app.start()\n    File \"C:\\Users\\s3929438\\Anaconda3\\lib\\site-packages\\ipykernel\\kernelapp.py\", line 677, in start\n      self.io_loop.start()\n    File \"C:\\Users\\s3929438\\Anaconda3\\lib\\site-packages\\tornado\\platform\\asyncio.py\", line 199, in start\n      self.asyncio_loop.run_forever()\n    File \"C:\\Users\\s3929438\\Anaconda3\\lib\\asyncio\\base_events.py\", line 596, in run_forever\n      self._run_once()\n    File \"C:\\Users\\s3929438\\Anaconda3\\lib\\asyncio\\base_events.py\", line 1890, in _run_once\n      handle._run()\n    File \"C:\\Users\\s3929438\\Anaconda3\\lib\\asyncio\\events.py\", line 80, in _run\n      self._context.run(self._callback, *self._args)\n    File \"C:\\Users\\s3929438\\Anaconda3\\lib\\site-packages\\ipykernel\\kernelbase.py\", line 457, in dispatch_queue\n      await self.process_one()\n    File \"C:\\Users\\s3929438\\Anaconda3\\lib\\site-packages\\ipykernel\\kernelbase.py\", line 446, in process_one\n      await dispatch(*args)\n    File \"C:\\Users\\s3929438\\Anaconda3\\lib\\site-packages\\ipykernel\\kernelbase.py\", line 353, in dispatch_shell\n      await result\n    File \"C:\\Users\\s3929438\\Anaconda3\\lib\\site-packages\\ipykernel\\kernelbase.py\", line 648, in execute_request\n      reply_content = await reply_content\n    File \"C:\\Users\\s3929438\\Anaconda3\\lib\\site-packages\\ipykernel\\ipkernel.py\", line 353, in do_execute\n      res = shell.run_cell(code, store_history=store_history, silent=silent)\n    File \"C:\\Users\\s3929438\\Anaconda3\\lib\\site-packages\\ipykernel\\zmqshell.py\", line 533, in run_cell\n      return super(ZMQInteractiveShell, self).run_cell(*args, **kwargs)\n    File \"C:\\Users\\s3929438\\Anaconda3\\lib\\site-packages\\IPython\\core\\interactiveshell.py\", line 2901, in run_cell\n      result = self._run_cell(\n    File \"C:\\Users\\s3929438\\Anaconda3\\lib\\site-packages\\IPython\\core\\interactiveshell.py\", line 2947, in _run_cell\n      return runner(coro)\n    File \"C:\\Users\\s3929438\\Anaconda3\\lib\\site-packages\\IPython\\core\\async_helpers.py\", line 68, in _pseudo_sync_runner\n      coro.send(None)\n    File \"C:\\Users\\s3929438\\Anaconda3\\lib\\site-packages\\IPython\\core\\interactiveshell.py\", line 3172, in run_cell_async\n      has_raised = await self.run_ast_nodes(code_ast.body, cell_name,\n    File \"C:\\Users\\s3929438\\Anaconda3\\lib\\site-packages\\IPython\\core\\interactiveshell.py\", line 3364, in run_ast_nodes\n      if (await self.run_code(code, result,  async_=asy)):\n    File \"C:\\Users\\s3929438\\Anaconda3\\lib\\site-packages\\IPython\\core\\interactiveshell.py\", line 3444, in run_code\n      exec(code_obj, self.user_global_ns, self.user_ns)\n    File \"C:\\Users\\s3929438\\AppData\\Local\\Temp/ipykernel_10628/2011985988.py\", line 1, in <module>\n      model.fit(X_tr,Y_tr,epochs=80)\n    File \"C:\\Users\\s3929438\\Anaconda3\\lib\\site-packages\\keras\\utils\\traceback_utils.py\", line 65, in error_handler\n      return fn(*args, **kwargs)\n    File \"C:\\Users\\s3929438\\Anaconda3\\lib\\site-packages\\keras\\engine\\training.py\", line 1650, in fit\n      tmp_logs = self.train_function(iterator)\n    File \"C:\\Users\\s3929438\\Anaconda3\\lib\\site-packages\\keras\\engine\\training.py\", line 1249, in train_function\n      return step_function(self, iterator)\n    File \"C:\\Users\\s3929438\\Anaconda3\\lib\\site-packages\\keras\\engine\\training.py\", line 1233, in step_function\n      outputs = model.distribute_strategy.run(run_step, args=(data,))\n    File \"C:\\Users\\s3929438\\Anaconda3\\lib\\site-packages\\keras\\engine\\training.py\", line 1222, in run_step\n      outputs = model.train_step(data)\n    File \"C:\\Users\\s3929438\\Anaconda3\\lib\\site-packages\\keras\\engine\\training.py\", line 1023, in train_step\n      y_pred = self(x, training=True)\n    File \"C:\\Users\\s3929438\\Anaconda3\\lib\\site-packages\\keras\\utils\\traceback_utils.py\", line 65, in error_handler\n      return fn(*args, **kwargs)\n    File \"C:\\Users\\s3929438\\Anaconda3\\lib\\site-packages\\keras\\engine\\training.py\", line 561, in __call__\n      return super().__call__(*args, **kwargs)\n    File \"C:\\Users\\s3929438\\Anaconda3\\lib\\site-packages\\keras\\utils\\traceback_utils.py\", line 65, in error_handler\n      return fn(*args, **kwargs)\n    File \"C:\\Users\\s3929438\\Anaconda3\\lib\\site-packages\\keras\\engine\\base_layer.py\", line 1132, in __call__\n      outputs = call_fn(inputs, *args, **kwargs)\n    File \"C:\\Users\\s3929438\\Anaconda3\\lib\\site-packages\\keras\\utils\\traceback_utils.py\", line 96, in error_handler\n      return fn(*args, **kwargs)\n    File \"C:\\Users\\s3929438\\Anaconda3\\lib\\site-packages\\keras\\engine\\sequential.py\", line 413, in call\n      return super().call(inputs, training=training, mask=mask)\n    File \"C:\\Users\\s3929438\\Anaconda3\\lib\\site-packages\\keras\\engine\\functional.py\", line 511, in call\n      return self._run_internal_graph(inputs, training=training, mask=mask)\n    File \"C:\\Users\\s3929438\\Anaconda3\\lib\\site-packages\\keras\\engine\\functional.py\", line 668, in _run_internal_graph\n      outputs = node.layer(*args, **kwargs)\n    File \"C:\\Users\\s3929438\\Anaconda3\\lib\\site-packages\\keras\\utils\\traceback_utils.py\", line 65, in error_handler\n      return fn(*args, **kwargs)\n    File \"C:\\Users\\s3929438\\Anaconda3\\lib\\site-packages\\keras\\engine\\base_layer.py\", line 1132, in __call__\n      outputs = call_fn(inputs, *args, **kwargs)\n    File \"C:\\Users\\s3929438\\Anaconda3\\lib\\site-packages\\keras\\utils\\traceback_utils.py\", line 96, in error_handler\n      return fn(*args, **kwargs)\n    File \"C:\\Users\\s3929438\\Anaconda3\\lib\\site-packages\\keras\\layers\\core\\dense.py\", line 255, in call\n      outputs = self.activation(outputs)\n    File \"C:\\Users\\s3929438\\Anaconda3\\lib\\site-packages\\keras\\activations.py\", line 317, in relu\n      return backend.relu(\n    File \"C:\\Users\\s3929438\\Anaconda3\\lib\\site-packages\\keras\\backend.py\", line 5369, in relu\n      x = tf.nn.relu(x)\nNode: 'sequential_2/dense_5/Relu'\nIn[0] and In[1] has different ndims: [32,89,1,1] vs. [89,16]\n\t [[{{node sequential_2/dense_5/Relu}}]] [Op:__inference_train_function_431052]"
     ]
    }
   ],
   "source": [
    "model.fit(X_tr,Y_tr,epochs=80)"
   ]
  },
  {
   "cell_type": "code",
   "execution_count": null,
   "id": "8c521c32",
   "metadata": {},
   "outputs": [],
   "source": []
  },
  {
   "cell_type": "code",
   "execution_count": null,
   "id": "7535f877",
   "metadata": {},
   "outputs": [],
   "source": []
  },
  {
   "cell_type": "code",
   "execution_count": null,
   "id": "e0ad7246",
   "metadata": {},
   "outputs": [],
   "source": []
  },
  {
   "cell_type": "markdown",
   "id": "6ec29078",
   "metadata": {},
   "source": [
    "# Applying LSTM model"
   ]
  },
  {
   "cell_type": "code",
   "execution_count": null,
   "id": "27544a34",
   "metadata": {},
   "outputs": [],
   "source": [
    "model = Sequential()\n",
    "model.add(LSTM(64, input_shape=(8850,89), activation='relu'))\n",
    "model.add(Dropout(0.5))\n",
    "# model.add(LSTM(128))\n",
    "# model.add(Dropout(0.5))\n",
    "# model.add(LSTM(256))\n",
    "# model.add(Dropout(0.5))\n",
    "# model.add(LSTM(64))\n",
    "# model.add(Dropout(0.5))\n",
    "model.add(Dense(8850, activation='sigmoid'))\n",
    "model.compile(loss='binary_crossentropy', optimizer='adam', metrics=['accuracy', keras.metrics.Precision(),\n",
    "                                                                     keras.metrics.Recall()])"
   ]
  },
  {
   "cell_type": "code",
   "execution_count": null,
   "id": "8cc5d4bf",
   "metadata": {},
   "outputs": [],
   "source": [
    "X = np.array(scaled_train).reshape((-1,8850,89))\n",
    "Y = np.array(y_train_res).reshape((-1,8850))"
   ]
  },
  {
   "cell_type": "code",
   "execution_count": null,
   "id": "82f09268",
   "metadata": {},
   "outputs": [],
   "source": [
    "X_tst = np.array(scaled_test).reshape((-1,1919,89))\n",
    "Y_tst = np.array(y_test).reshape((-1,1919))"
   ]
  },
  {
   "cell_type": "code",
   "execution_count": null,
   "id": "ebbb40d2",
   "metadata": {},
   "outputs": [],
   "source": [
    "scaled_test.shape"
   ]
  },
  {
   "cell_type": "code",
   "execution_count": null,
   "id": "0d4ced7b",
   "metadata": {},
   "outputs": [],
   "source": [
    "X"
   ]
  },
  {
   "cell_type": "code",
   "execution_count": null,
   "id": "0842bca5",
   "metadata": {
    "scrolled": true
   },
   "outputs": [],
   "source": [
    "model.fit(X,Y, epochs=50, shuffle=True, verbose=2)"
   ]
  },
  {
   "cell_type": "code",
   "execution_count": null,
   "id": "f1784cf1",
   "metadata": {},
   "outputs": [],
   "source": [
    "Performance = model.evaluate(X_tst, Y_tst, verbose=0)"
   ]
  },
  {
   "cell_type": "code",
   "execution_count": null,
   "id": "8ab68036",
   "metadata": {},
   "outputs": [],
   "source": [
    "Performance"
   ]
  },
  {
   "cell_type": "code",
   "execution_count": null,
   "id": "26792345",
   "metadata": {},
   "outputs": [],
   "source": []
  }
 ],
 "metadata": {
  "kernelspec": {
   "display_name": "Python 3 (ipykernel)",
   "language": "python",
   "name": "python3"
  },
  "language_info": {
   "codemirror_mode": {
    "name": "ipython",
    "version": 3
   },
   "file_extension": ".py",
   "mimetype": "text/x-python",
   "name": "python",
   "nbconvert_exporter": "python",
   "pygments_lexer": "ipython3",
   "version": "3.9.7"
  }
 },
 "nbformat": 4,
 "nbformat_minor": 5
}
